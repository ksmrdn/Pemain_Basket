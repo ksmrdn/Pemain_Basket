{
 "nbformat": 4,
 "nbformat_minor": 2,
 "metadata": {
  "language_info": {
   "name": "python",
   "codemirror_mode": {
    "name": "ipython",
    "version": 3
   },
   "version": "3.7.4-final"
  },
  "orig_nbformat": 2,
  "file_extension": ".py",
  "mimetype": "text/x-python",
  "name": "python",
  "npconvert_exporter": "python",
  "pygments_lexer": "ipython3",
  "version": 3,
  "kernelspec": {
   "name": "python37464bitbaseconda9ac5713aaf5d4281bcc09ff0bf5e12f1",
   "display_name": "Python 3.7.4 64-bit ('base': conda)"
  }
 },
 "cells": [
  {
   "cell_type": "code",
   "execution_count": 116,
   "metadata": {},
   "outputs": [],
   "source": [
    "import numpy as np\n",
    "import pandas as pd\n",
    "import matplotlib.pyplot as plt\n",
    "from sklearn.model_selection import train_test_split, RandomizedSearchCV\n",
    "from sklearn.neighbors import KNeighborsClassifier\n",
    "from sklearn.tree import DecisionTreeClassifier\n",
    "from sklearn.linear_model import LogisticRegression\n",
    "from sklearn.preprocessing import StandardScaler\n",
    "from sklearn.preprocessing import LabelEncoder\n",
    "from sklearn.metrics import recall_score, precision_score, balanced_accuracy_score, f1_score, classification_report, roc_auc_score"
   ]
  },
  {
   "cell_type": "markdown",
   "execution_count": null,
   "metadata": {},
   "outputs": [],
   "source": [
    "# CLASSIFICATION NBA PLAYERS"
   ]
  },
  {
   "cell_type": "code",
   "execution_count": 5,
   "metadata": {},
   "outputs": [
    {
     "data": {
      "text/html": "<div>\n<style scoped>\n    .dataframe tbody tr th:only-of-type {\n        vertical-align: middle;\n    }\n\n    .dataframe tbody tr th {\n        vertical-align: top;\n    }\n\n    .dataframe thead th {\n        text-align: right;\n    }\n</style>\n<table border=\"1\" class=\"dataframe\">\n  <thead>\n    <tr style=\"text-align: right;\">\n      <th></th>\n      <th>Unnamed: 0</th>\n      <th>player_name</th>\n      <th>team_abbreviation</th>\n      <th>age</th>\n      <th>player_height</th>\n      <th>player_weight</th>\n      <th>college</th>\n      <th>country</th>\n      <th>draft_year</th>\n      <th>draft_round</th>\n      <th>...</th>\n      <th>pts</th>\n      <th>reb</th>\n      <th>ast</th>\n      <th>net_rating</th>\n      <th>oreb_pct</th>\n      <th>dreb_pct</th>\n      <th>usg_pct</th>\n      <th>ts_pct</th>\n      <th>ast_pct</th>\n      <th>season</th>\n    </tr>\n  </thead>\n  <tbody>\n    <tr>\n      <th>0</th>\n      <td>0</td>\n      <td>Chris Robinson</td>\n      <td>VAN</td>\n      <td>23.0</td>\n      <td>195.58</td>\n      <td>90.71840</td>\n      <td>Western Kentucky</td>\n      <td>USA</td>\n      <td>1996</td>\n      <td>2</td>\n      <td>...</td>\n      <td>4.6</td>\n      <td>1.7</td>\n      <td>1.6</td>\n      <td>-11.4</td>\n      <td>0.039</td>\n      <td>0.088</td>\n      <td>0.155</td>\n      <td>0.486</td>\n      <td>0.156</td>\n      <td>1996-97</td>\n    </tr>\n    <tr>\n      <th>1</th>\n      <td>1</td>\n      <td>Matt Fish</td>\n      <td>MIA</td>\n      <td>27.0</td>\n      <td>210.82</td>\n      <td>106.59412</td>\n      <td>North Carolina-Wilmington</td>\n      <td>USA</td>\n      <td>1992</td>\n      <td>2</td>\n      <td>...</td>\n      <td>0.3</td>\n      <td>0.8</td>\n      <td>0.0</td>\n      <td>-15.1</td>\n      <td>0.143</td>\n      <td>0.267</td>\n      <td>0.265</td>\n      <td>0.333</td>\n      <td>0.000</td>\n      <td>1996-97</td>\n    </tr>\n    <tr>\n      <th>2</th>\n      <td>2</td>\n      <td>Matt Bullard</td>\n      <td>HOU</td>\n      <td>30.0</td>\n      <td>208.28</td>\n      <td>106.59412</td>\n      <td>Iowa</td>\n      <td>USA</td>\n      <td>Undrafted</td>\n      <td>Undrafted</td>\n      <td>...</td>\n      <td>4.5</td>\n      <td>1.6</td>\n      <td>0.9</td>\n      <td>0.9</td>\n      <td>0.016</td>\n      <td>0.115</td>\n      <td>0.151</td>\n      <td>0.535</td>\n      <td>0.099</td>\n      <td>1996-97</td>\n    </tr>\n    <tr>\n      <th>3</th>\n      <td>3</td>\n      <td>Marty Conlon</td>\n      <td>BOS</td>\n      <td>29.0</td>\n      <td>210.82</td>\n      <td>111.13004</td>\n      <td>Providence</td>\n      <td>USA</td>\n      <td>Undrafted</td>\n      <td>Undrafted</td>\n      <td>...</td>\n      <td>7.8</td>\n      <td>4.4</td>\n      <td>1.4</td>\n      <td>-9.0</td>\n      <td>0.083</td>\n      <td>0.152</td>\n      <td>0.167</td>\n      <td>0.542</td>\n      <td>0.101</td>\n      <td>1996-97</td>\n    </tr>\n    <tr>\n      <th>4</th>\n      <td>4</td>\n      <td>Martin Muursepp</td>\n      <td>DAL</td>\n      <td>22.0</td>\n      <td>205.74</td>\n      <td>106.59412</td>\n      <td>None</td>\n      <td>USA</td>\n      <td>1996</td>\n      <td>1</td>\n      <td>...</td>\n      <td>3.7</td>\n      <td>1.6</td>\n      <td>0.5</td>\n      <td>-14.5</td>\n      <td>0.109</td>\n      <td>0.118</td>\n      <td>0.233</td>\n      <td>0.482</td>\n      <td>0.114</td>\n      <td>1996-97</td>\n    </tr>\n    <tr>\n      <th>...</th>\n      <td>...</td>\n      <td>...</td>\n      <td>...</td>\n      <td>...</td>\n      <td>...</td>\n      <td>...</td>\n      <td>...</td>\n      <td>...</td>\n      <td>...</td>\n      <td>...</td>\n      <td>...</td>\n      <td>...</td>\n      <td>...</td>\n      <td>...</td>\n      <td>...</td>\n      <td>...</td>\n      <td>...</td>\n      <td>...</td>\n      <td>...</td>\n      <td>...</td>\n      <td>...</td>\n    </tr>\n    <tr>\n      <th>9556</th>\n      <td>9556</td>\n      <td>Elijah Millsap</td>\n      <td>PHX</td>\n      <td>29.0</td>\n      <td>200.66</td>\n      <td>97.52228</td>\n      <td>Alabama-Birmingham</td>\n      <td>USA</td>\n      <td>Undrafted</td>\n      <td>Undrafted</td>\n      <td>...</td>\n      <td>1.5</td>\n      <td>3.0</td>\n      <td>0.5</td>\n      <td>-1.8</td>\n      <td>0.125</td>\n      <td>0.150</td>\n      <td>0.199</td>\n      <td>0.190</td>\n      <td>0.067</td>\n      <td>2016-17</td>\n    </tr>\n    <tr>\n      <th>9557</th>\n      <td>9557</td>\n      <td>Elfrid Payton</td>\n      <td>ORL</td>\n      <td>23.0</td>\n      <td>193.04</td>\n      <td>83.91452</td>\n      <td>Louisiana-Lafayette</td>\n      <td>USA</td>\n      <td>2014</td>\n      <td>1</td>\n      <td>...</td>\n      <td>12.8</td>\n      <td>4.7</td>\n      <td>6.5</td>\n      <td>-2.7</td>\n      <td>0.039</td>\n      <td>0.136</td>\n      <td>0.213</td>\n      <td>0.520</td>\n      <td>0.329</td>\n      <td>2016-17</td>\n    </tr>\n    <tr>\n      <th>9558</th>\n      <td>9558</td>\n      <td>Edy Tavares</td>\n      <td>CLE</td>\n      <td>25.0</td>\n      <td>220.98</td>\n      <td>120.20188</td>\n      <td>None</td>\n      <td>Cabo Verde</td>\n      <td>2014</td>\n      <td>2</td>\n      <td>...</td>\n      <td>4.0</td>\n      <td>5.5</td>\n      <td>0.5</td>\n      <td>15.2</td>\n      <td>0.160</td>\n      <td>0.241</td>\n      <td>0.137</td>\n      <td>0.633</td>\n      <td>0.071</td>\n      <td>2016-17</td>\n    </tr>\n    <tr>\n      <th>9559</th>\n      <td>9559</td>\n      <td>Willy Hernangomez</td>\n      <td>NYK</td>\n      <td>23.0</td>\n      <td>210.82</td>\n      <td>108.86208</td>\n      <td>None</td>\n      <td>Spain</td>\n      <td>2015</td>\n      <td>2</td>\n      <td>...</td>\n      <td>8.2</td>\n      <td>7.0</td>\n      <td>1.3</td>\n      <td>-2.8</td>\n      <td>0.142</td>\n      <td>0.263</td>\n      <td>0.202</td>\n      <td>0.564</td>\n      <td>0.116</td>\n      <td>2016-17</td>\n    </tr>\n    <tr>\n      <th>9560</th>\n      <td>9560</td>\n      <td>Wilson Chandler</td>\n      <td>DEN</td>\n      <td>30.0</td>\n      <td>203.20</td>\n      <td>102.05820</td>\n      <td>DePaul</td>\n      <td>USA</td>\n      <td>2007</td>\n      <td>1</td>\n      <td>...</td>\n      <td>15.7</td>\n      <td>6.5</td>\n      <td>2.0</td>\n      <td>-1.7</td>\n      <td>0.052</td>\n      <td>0.178</td>\n      <td>0.221</td>\n      <td>0.545</td>\n      <td>0.097</td>\n      <td>2016-17</td>\n    </tr>\n  </tbody>\n</table>\n<p>9561 rows × 22 columns</p>\n</div>",
      "text/plain": "      Unnamed: 0        player_name team_abbreviation   age  player_height  \\\n0              0     Chris Robinson               VAN  23.0         195.58   \n1              1          Matt Fish               MIA  27.0         210.82   \n2              2       Matt Bullard               HOU  30.0         208.28   \n3              3       Marty Conlon               BOS  29.0         210.82   \n4              4    Martin Muursepp               DAL  22.0         205.74   \n...          ...                ...               ...   ...            ...   \n9556        9556     Elijah Millsap               PHX  29.0         200.66   \n9557        9557      Elfrid Payton               ORL  23.0         193.04   \n9558        9558        Edy Tavares               CLE  25.0         220.98   \n9559        9559  Willy Hernangomez               NYK  23.0         210.82   \n9560        9560    Wilson Chandler               DEN  30.0         203.20   \n\n      player_weight                    college     country draft_year  \\\n0          90.71840           Western Kentucky         USA       1996   \n1         106.59412  North Carolina-Wilmington         USA       1992   \n2         106.59412                       Iowa         USA  Undrafted   \n3         111.13004                 Providence         USA  Undrafted   \n4         106.59412                       None         USA       1996   \n...             ...                        ...         ...        ...   \n9556       97.52228         Alabama-Birmingham         USA  Undrafted   \n9557       83.91452        Louisiana-Lafayette         USA       2014   \n9558      120.20188                       None  Cabo Verde       2014   \n9559      108.86208                       None       Spain       2015   \n9560      102.05820                     DePaul         USA       2007   \n\n     draft_round  ...   pts  reb  ast  net_rating  oreb_pct  dreb_pct  \\\n0              2  ...   4.6  1.7  1.6       -11.4     0.039     0.088   \n1              2  ...   0.3  0.8  0.0       -15.1     0.143     0.267   \n2      Undrafted  ...   4.5  1.6  0.9         0.9     0.016     0.115   \n3      Undrafted  ...   7.8  4.4  1.4        -9.0     0.083     0.152   \n4              1  ...   3.7  1.6  0.5       -14.5     0.109     0.118   \n...          ...  ...   ...  ...  ...         ...       ...       ...   \n9556   Undrafted  ...   1.5  3.0  0.5        -1.8     0.125     0.150   \n9557           1  ...  12.8  4.7  6.5        -2.7     0.039     0.136   \n9558           2  ...   4.0  5.5  0.5        15.2     0.160     0.241   \n9559           2  ...   8.2  7.0  1.3        -2.8     0.142     0.263   \n9560           1  ...  15.7  6.5  2.0        -1.7     0.052     0.178   \n\n      usg_pct  ts_pct  ast_pct   season  \n0       0.155   0.486    0.156  1996-97  \n1       0.265   0.333    0.000  1996-97  \n2       0.151   0.535    0.099  1996-97  \n3       0.167   0.542    0.101  1996-97  \n4       0.233   0.482    0.114  1996-97  \n...       ...     ...      ...      ...  \n9556    0.199   0.190    0.067  2016-17  \n9557    0.213   0.520    0.329  2016-17  \n9558    0.137   0.633    0.071  2016-17  \n9559    0.202   0.564    0.116  2016-17  \n9560    0.221   0.545    0.097  2016-17  \n\n[9561 rows x 22 columns]"
     },
     "execution_count": 5,
     "metadata": {},
     "output_type": "execute_result"
    }
   ],
   "source": [
    "df = pd.read_csv(\"all_seasons.csv\")\n",
    "df"
   ]
  },
  {
   "cell_type": "code",
   "execution_count": 7,
   "metadata": {},
   "outputs": [
    {
     "data": {
      "text/plain": "Unnamed: 0           0\nplayer_name          0\nteam_abbreviation    0\nage                  0\nplayer_height        0\nplayer_weight        0\ncollege              0\ncountry              0\ndraft_year           0\ndraft_round          0\ndraft_number         0\ngp                   0\npts                  0\nreb                  0\nast                  0\nnet_rating           0\noreb_pct             0\ndreb_pct             0\nusg_pct              0\nts_pct               0\nast_pct              0\nseason               0\ndtype: int64"
     },
     "execution_count": 7,
     "metadata": {},
     "output_type": "execute_result"
    }
   ],
   "source": [
    "df.isnull().sum()"
   ]
  },
  {
   "cell_type": "code",
   "execution_count": 9,
   "metadata": {},
   "outputs": [
    {
     "data": {
      "text/html": "<div>\n<style scoped>\n    .dataframe tbody tr th:only-of-type {\n        vertical-align: middle;\n    }\n\n    .dataframe tbody tr th {\n        vertical-align: top;\n    }\n\n    .dataframe thead th {\n        text-align: right;\n    }\n</style>\n<table border=\"1\" class=\"dataframe\">\n  <thead>\n    <tr style=\"text-align: right;\">\n      <th></th>\n      <th>name</th>\n      <th>club</th>\n      <th>age</th>\n      <th>height</th>\n      <th>weight</th>\n      <th>pts</th>\n      <th>reb</th>\n    </tr>\n  </thead>\n  <tbody>\n    <tr>\n      <th>0</th>\n      <td>Chris Robinson</td>\n      <td>VAN</td>\n      <td>23.0</td>\n      <td>195.58</td>\n      <td>90.71840</td>\n      <td>4.6</td>\n      <td>1.7</td>\n    </tr>\n    <tr>\n      <th>1</th>\n      <td>Matt Fish</td>\n      <td>MIA</td>\n      <td>27.0</td>\n      <td>210.82</td>\n      <td>106.59412</td>\n      <td>0.3</td>\n      <td>0.8</td>\n    </tr>\n    <tr>\n      <th>2</th>\n      <td>Matt Bullard</td>\n      <td>HOU</td>\n      <td>30.0</td>\n      <td>208.28</td>\n      <td>106.59412</td>\n      <td>4.5</td>\n      <td>1.6</td>\n    </tr>\n    <tr>\n      <th>3</th>\n      <td>Marty Conlon</td>\n      <td>BOS</td>\n      <td>29.0</td>\n      <td>210.82</td>\n      <td>111.13004</td>\n      <td>7.8</td>\n      <td>4.4</td>\n    </tr>\n    <tr>\n      <th>4</th>\n      <td>Martin Muursepp</td>\n      <td>DAL</td>\n      <td>22.0</td>\n      <td>205.74</td>\n      <td>106.59412</td>\n      <td>3.7</td>\n      <td>1.6</td>\n    </tr>\n    <tr>\n      <th>...</th>\n      <td>...</td>\n      <td>...</td>\n      <td>...</td>\n      <td>...</td>\n      <td>...</td>\n      <td>...</td>\n      <td>...</td>\n    </tr>\n    <tr>\n      <th>9556</th>\n      <td>Elijah Millsap</td>\n      <td>PHX</td>\n      <td>29.0</td>\n      <td>200.66</td>\n      <td>97.52228</td>\n      <td>1.5</td>\n      <td>3.0</td>\n    </tr>\n    <tr>\n      <th>9557</th>\n      <td>Elfrid Payton</td>\n      <td>ORL</td>\n      <td>23.0</td>\n      <td>193.04</td>\n      <td>83.91452</td>\n      <td>12.8</td>\n      <td>4.7</td>\n    </tr>\n    <tr>\n      <th>9558</th>\n      <td>Edy Tavares</td>\n      <td>CLE</td>\n      <td>25.0</td>\n      <td>220.98</td>\n      <td>120.20188</td>\n      <td>4.0</td>\n      <td>5.5</td>\n    </tr>\n    <tr>\n      <th>9559</th>\n      <td>Willy Hernangomez</td>\n      <td>NYK</td>\n      <td>23.0</td>\n      <td>210.82</td>\n      <td>108.86208</td>\n      <td>8.2</td>\n      <td>7.0</td>\n    </tr>\n    <tr>\n      <th>9560</th>\n      <td>Wilson Chandler</td>\n      <td>DEN</td>\n      <td>30.0</td>\n      <td>203.20</td>\n      <td>102.05820</td>\n      <td>15.7</td>\n      <td>6.5</td>\n    </tr>\n  </tbody>\n</table>\n<p>9561 rows × 7 columns</p>\n</div>",
      "text/plain": "                   name club   age  height     weight   pts  reb\n0        Chris Robinson  VAN  23.0  195.58   90.71840   4.6  1.7\n1             Matt Fish  MIA  27.0  210.82  106.59412   0.3  0.8\n2          Matt Bullard  HOU  30.0  208.28  106.59412   4.5  1.6\n3          Marty Conlon  BOS  29.0  210.82  111.13004   7.8  4.4\n4       Martin Muursepp  DAL  22.0  205.74  106.59412   3.7  1.6\n...                 ...  ...   ...     ...        ...   ...  ...\n9556     Elijah Millsap  PHX  29.0  200.66   97.52228   1.5  3.0\n9557      Elfrid Payton  ORL  23.0  193.04   83.91452  12.8  4.7\n9558        Edy Tavares  CLE  25.0  220.98  120.20188   4.0  5.5\n9559  Willy Hernangomez  NYK  23.0  210.82  108.86208   8.2  7.0\n9560    Wilson Chandler  DEN  30.0  203.20  102.05820  15.7  6.5\n\n[9561 rows x 7 columns]"
     },
     "execution_count": 9,
     "metadata": {},
     "output_type": "execute_result"
    }
   ],
   "source": [
    "df_new = df[['player_name','team_abbreviation','age','player_height','player_weight','pts','reb']]\n",
    "df_new = df_new.rename(columns={\"player_name\":\"name\",\"team_abbreviation\":\"club\",\"player_height\":\"height\",\"player_weight\":\"weight\"})\n",
    "df_new"
   ]
  },
  {
   "cell_type": "code",
   "execution_count": 10,
   "metadata": {},
   "outputs": [
    {
     "data": {
      "text/html": "<div>\n<style scoped>\n    .dataframe tbody tr th:only-of-type {\n        vertical-align: middle;\n    }\n\n    .dataframe tbody tr th {\n        vertical-align: top;\n    }\n\n    .dataframe thead th {\n        text-align: right;\n    }\n</style>\n<table border=\"1\" class=\"dataframe\">\n  <thead>\n    <tr style=\"text-align: right;\">\n      <th></th>\n      <th>name</th>\n      <th>club</th>\n      <th>age</th>\n      <th>height</th>\n      <th>weight</th>\n      <th>pts</th>\n      <th>reb</th>\n    </tr>\n  </thead>\n  <tbody>\n    <tr>\n      <th>105</th>\n      <td>Kerry Kittles</td>\n      <td>NJN</td>\n      <td>23.0</td>\n      <td>195.58</td>\n      <td>81.192968</td>\n      <td>16.4</td>\n      <td>3.9</td>\n    </tr>\n    <tr>\n      <th>290</th>\n      <td>Allen Iverson</td>\n      <td>PHI</td>\n      <td>22.0</td>\n      <td>182.88</td>\n      <td>74.842680</td>\n      <td>23.5</td>\n      <td>4.1</td>\n    </tr>\n    <tr>\n      <th>432</th>\n      <td>Eddie Jones</td>\n      <td>LAL</td>\n      <td>25.0</td>\n      <td>198.12</td>\n      <td>86.182480</td>\n      <td>17.2</td>\n      <td>4.1</td>\n    </tr>\n    <tr>\n      <th>659</th>\n      <td>Kerry Kittles</td>\n      <td>NJN</td>\n      <td>24.0</td>\n      <td>195.58</td>\n      <td>81.192968</td>\n      <td>17.2</td>\n      <td>4.7</td>\n    </tr>\n    <tr>\n      <th>835</th>\n      <td>Allen Iverson</td>\n      <td>PHI</td>\n      <td>23.0</td>\n      <td>182.88</td>\n      <td>74.842680</td>\n      <td>22.0</td>\n      <td>3.7</td>\n    </tr>\n    <tr>\n      <th>...</th>\n      <td>...</td>\n      <td>...</td>\n      <td>...</td>\n      <td>...</td>\n      <td>...</td>\n      <td>...</td>\n      <td>...</td>\n    </tr>\n    <tr>\n      <th>9345</th>\n      <td>Brandon Ingram</td>\n      <td>LAL</td>\n      <td>19.0</td>\n      <td>205.74</td>\n      <td>86.182480</td>\n      <td>9.4</td>\n      <td>4.0</td>\n    </tr>\n    <tr>\n      <th>9371</th>\n      <td>D'Angelo Russell</td>\n      <td>LAL</td>\n      <td>21.0</td>\n      <td>195.58</td>\n      <td>88.450440</td>\n      <td>15.6</td>\n      <td>3.5</td>\n    </tr>\n    <tr>\n      <th>9485</th>\n      <td>Jeremy Lamb</td>\n      <td>CHA</td>\n      <td>25.0</td>\n      <td>195.58</td>\n      <td>83.914520</td>\n      <td>9.7</td>\n      <td>4.3</td>\n    </tr>\n    <tr>\n      <th>9522</th>\n      <td>Dennis Schroder</td>\n      <td>ATL</td>\n      <td>23.0</td>\n      <td>185.42</td>\n      <td>78.017824</td>\n      <td>17.9</td>\n      <td>3.1</td>\n    </tr>\n    <tr>\n      <th>9557</th>\n      <td>Elfrid Payton</td>\n      <td>ORL</td>\n      <td>23.0</td>\n      <td>193.04</td>\n      <td>83.914520</td>\n      <td>12.8</td>\n      <td>4.7</td>\n    </tr>\n  </tbody>\n</table>\n<p>191 rows × 7 columns</p>\n</div>",
      "text/plain": "                  name club   age  height     weight   pts  reb\n105      Kerry Kittles  NJN  23.0  195.58  81.192968  16.4  3.9\n290      Allen Iverson  PHI  22.0  182.88  74.842680  23.5  4.1\n432        Eddie Jones  LAL  25.0  198.12  86.182480  17.2  4.1\n659      Kerry Kittles  NJN  24.0  195.58  81.192968  17.2  4.7\n835      Allen Iverson  PHI  23.0  182.88  74.842680  22.0  3.7\n...                ...  ...   ...     ...        ...   ...  ...\n9345    Brandon Ingram  LAL  19.0  205.74  86.182480   9.4  4.0\n9371  D'Angelo Russell  LAL  21.0  195.58  88.450440  15.6  3.5\n9485       Jeremy Lamb  CHA  25.0  195.58  83.914520   9.7  4.3\n9522   Dennis Schroder  ATL  23.0  185.42  78.017824  17.9  3.1\n9557     Elfrid Payton  ORL  23.0  193.04  83.914520  12.8  4.7\n\n[191 rows x 7 columns]"
     },
     "execution_count": 10,
     "metadata": {},
     "output_type": "execute_result"
    }
   ],
   "source": [
    "df_pilih = df_new[(df_new['age']<=25)&(df_new['height']>=180)&(df_new['weight']<=90)&(df_new['pts']>=6)&(df_new['reb']>=3)]\n",
    "ind_pilih = df_pilih.index.tolist() #index yang masuk kriteria\n",
    "df_pilih #Ada 191 Pemain Target"
   ]
  },
  {
   "cell_type": "code",
   "execution_count": 40,
   "metadata": {},
   "outputs": [
    {
     "data": {
      "text/html": "<div>\n<style scoped>\n    .dataframe tbody tr th:only-of-type {\n        vertical-align: middle;\n    }\n\n    .dataframe tbody tr th {\n        vertical-align: top;\n    }\n\n    .dataframe thead th {\n        text-align: right;\n    }\n</style>\n<table border=\"1\" class=\"dataframe\">\n  <thead>\n    <tr style=\"text-align: right;\">\n      <th></th>\n      <th>name</th>\n      <th>club</th>\n      <th>age</th>\n      <th>height</th>\n      <th>weight</th>\n      <th>pts</th>\n      <th>reb</th>\n      <th>status_en</th>\n      <th>status</th>\n    </tr>\n  </thead>\n  <tbody>\n    <tr>\n      <th>0</th>\n      <td>Chris Robinson</td>\n      <td>VAN</td>\n      <td>23.0</td>\n      <td>195.58</td>\n      <td>90.71840</td>\n      <td>4.6</td>\n      <td>1.7</td>\n      <td>0</td>\n      <td>Non-Target</td>\n    </tr>\n    <tr>\n      <th>1</th>\n      <td>Matt Fish</td>\n      <td>MIA</td>\n      <td>27.0</td>\n      <td>210.82</td>\n      <td>106.59412</td>\n      <td>0.3</td>\n      <td>0.8</td>\n      <td>0</td>\n      <td>Non-Target</td>\n    </tr>\n    <tr>\n      <th>2</th>\n      <td>Matt Bullard</td>\n      <td>HOU</td>\n      <td>30.0</td>\n      <td>208.28</td>\n      <td>106.59412</td>\n      <td>4.5</td>\n      <td>1.6</td>\n      <td>0</td>\n      <td>Non-Target</td>\n    </tr>\n    <tr>\n      <th>3</th>\n      <td>Marty Conlon</td>\n      <td>BOS</td>\n      <td>29.0</td>\n      <td>210.82</td>\n      <td>111.13004</td>\n      <td>7.8</td>\n      <td>4.4</td>\n      <td>0</td>\n      <td>Non-Target</td>\n    </tr>\n    <tr>\n      <th>4</th>\n      <td>Martin Muursepp</td>\n      <td>DAL</td>\n      <td>22.0</td>\n      <td>205.74</td>\n      <td>106.59412</td>\n      <td>3.7</td>\n      <td>1.6</td>\n      <td>0</td>\n      <td>Non-Target</td>\n    </tr>\n    <tr>\n      <th>...</th>\n      <td>...</td>\n      <td>...</td>\n      <td>...</td>\n      <td>...</td>\n      <td>...</td>\n      <td>...</td>\n      <td>...</td>\n      <td>...</td>\n      <td>...</td>\n    </tr>\n    <tr>\n      <th>9556</th>\n      <td>Elijah Millsap</td>\n      <td>PHX</td>\n      <td>29.0</td>\n      <td>200.66</td>\n      <td>97.52228</td>\n      <td>1.5</td>\n      <td>3.0</td>\n      <td>0</td>\n      <td>Non-Target</td>\n    </tr>\n    <tr>\n      <th>9557</th>\n      <td>Elfrid Payton</td>\n      <td>ORL</td>\n      <td>23.0</td>\n      <td>193.04</td>\n      <td>83.91452</td>\n      <td>12.8</td>\n      <td>4.7</td>\n      <td>1</td>\n      <td>Target</td>\n    </tr>\n    <tr>\n      <th>9558</th>\n      <td>Edy Tavares</td>\n      <td>CLE</td>\n      <td>25.0</td>\n      <td>220.98</td>\n      <td>120.20188</td>\n      <td>4.0</td>\n      <td>5.5</td>\n      <td>0</td>\n      <td>Non-Target</td>\n    </tr>\n    <tr>\n      <th>9559</th>\n      <td>Willy Hernangomez</td>\n      <td>NYK</td>\n      <td>23.0</td>\n      <td>210.82</td>\n      <td>108.86208</td>\n      <td>8.2</td>\n      <td>7.0</td>\n      <td>0</td>\n      <td>Non-Target</td>\n    </tr>\n    <tr>\n      <th>9560</th>\n      <td>Wilson Chandler</td>\n      <td>DEN</td>\n      <td>30.0</td>\n      <td>203.20</td>\n      <td>102.05820</td>\n      <td>15.7</td>\n      <td>6.5</td>\n      <td>0</td>\n      <td>Non-Target</td>\n    </tr>\n  </tbody>\n</table>\n<p>9561 rows × 9 columns</p>\n</div>",
      "text/plain": "                   name club   age  height     weight   pts  reb  status_en  \\\n0        Chris Robinson  VAN  23.0  195.58   90.71840   4.6  1.7          0   \n1             Matt Fish  MIA  27.0  210.82  106.59412   0.3  0.8          0   \n2          Matt Bullard  HOU  30.0  208.28  106.59412   4.5  1.6          0   \n3          Marty Conlon  BOS  29.0  210.82  111.13004   7.8  4.4          0   \n4       Martin Muursepp  DAL  22.0  205.74  106.59412   3.7  1.6          0   \n...                 ...  ...   ...     ...        ...   ...  ...        ...   \n9556     Elijah Millsap  PHX  29.0  200.66   97.52228   1.5  3.0          0   \n9557      Elfrid Payton  ORL  23.0  193.04   83.91452  12.8  4.7          1   \n9558        Edy Tavares  CLE  25.0  220.98  120.20188   4.0  5.5          0   \n9559  Willy Hernangomez  NYK  23.0  210.82  108.86208   8.2  7.0          0   \n9560    Wilson Chandler  DEN  30.0  203.20  102.05820  15.7  6.5          0   \n\n          status  \n0     Non-Target  \n1     Non-Target  \n2     Non-Target  \n3     Non-Target  \n4     Non-Target  \n...          ...  \n9556  Non-Target  \n9557      Target  \n9558  Non-Target  \n9559  Non-Target  \n9560  Non-Target  \n\n[9561 rows x 9 columns]"
     },
     "execution_count": 40,
     "metadata": {},
     "output_type": "execute_result"
    }
   ],
   "source": [
    "df_new['status'] = ['Target' if i in ind_pilih else 'Non-Target' for i in range(len(df_new.index))]\n",
    "df_new"
   ]
  },
  {
   "cell_type": "markdown",
   "execution_count": null,
   "metadata": {},
   "outputs": [],
   "source": [
    "### Label Encoder"
   ]
  },
  {
   "cell_type": "code",
   "execution_count": 173,
   "metadata": {},
   "outputs": [
    {
     "data": {
      "text/html": "<div>\n<style scoped>\n    .dataframe tbody tr th:only-of-type {\n        vertical-align: middle;\n    }\n\n    .dataframe tbody tr th {\n        vertical-align: top;\n    }\n\n    .dataframe thead th {\n        text-align: right;\n    }\n</style>\n<table border=\"1\" class=\"dataframe\">\n  <thead>\n    <tr style=\"text-align: right;\">\n      <th></th>\n      <th>name</th>\n      <th>club</th>\n      <th>age</th>\n      <th>height</th>\n      <th>weight</th>\n      <th>pts</th>\n      <th>reb</th>\n      <th>status_en</th>\n      <th>status</th>\n    </tr>\n  </thead>\n  <tbody>\n    <tr>\n      <th>0</th>\n      <td>Chris Robinson</td>\n      <td>VAN</td>\n      <td>23.0</td>\n      <td>195.58</td>\n      <td>90.718400</td>\n      <td>4.6</td>\n      <td>1.7</td>\n      <td>0</td>\n      <td>Non-Target</td>\n    </tr>\n    <tr>\n      <th>1</th>\n      <td>Matt Fish</td>\n      <td>MIA</td>\n      <td>27.0</td>\n      <td>210.82</td>\n      <td>106.594120</td>\n      <td>0.3</td>\n      <td>0.8</td>\n      <td>0</td>\n      <td>Non-Target</td>\n    </tr>\n    <tr>\n      <th>2</th>\n      <td>Matt Bullard</td>\n      <td>HOU</td>\n      <td>30.0</td>\n      <td>208.28</td>\n      <td>106.594120</td>\n      <td>4.5</td>\n      <td>1.6</td>\n      <td>0</td>\n      <td>Non-Target</td>\n    </tr>\n    <tr>\n      <th>3</th>\n      <td>Marty Conlon</td>\n      <td>BOS</td>\n      <td>29.0</td>\n      <td>210.82</td>\n      <td>111.130040</td>\n      <td>7.8</td>\n      <td>4.4</td>\n      <td>0</td>\n      <td>Non-Target</td>\n    </tr>\n    <tr>\n      <th>4</th>\n      <td>Martin Muursepp</td>\n      <td>DAL</td>\n      <td>22.0</td>\n      <td>205.74</td>\n      <td>106.594120</td>\n      <td>3.7</td>\n      <td>1.6</td>\n      <td>0</td>\n      <td>Non-Target</td>\n    </tr>\n    <tr>\n      <th>5</th>\n      <td>Martin Lewis</td>\n      <td>TOR</td>\n      <td>22.0</td>\n      <td>198.12</td>\n      <td>102.058200</td>\n      <td>1.6</td>\n      <td>0.7</td>\n      <td>0</td>\n      <td>Non-Target</td>\n    </tr>\n    <tr>\n      <th>6</th>\n      <td>Mark West</td>\n      <td>CLE</td>\n      <td>36.0</td>\n      <td>208.28</td>\n      <td>111.583632</td>\n      <td>3.2</td>\n      <td>2.7</td>\n      <td>0</td>\n      <td>Non-Target</td>\n    </tr>\n    <tr>\n      <th>7</th>\n      <td>Mark Strickland</td>\n      <td>MIA</td>\n      <td>26.0</td>\n      <td>208.28</td>\n      <td>99.790240</td>\n      <td>2.0</td>\n      <td>1.2</td>\n      <td>0</td>\n      <td>Non-Target</td>\n    </tr>\n    <tr>\n      <th>8</th>\n      <td>Mark Price</td>\n      <td>GSW</td>\n      <td>33.0</td>\n      <td>182.88</td>\n      <td>81.646560</td>\n      <td>11.3</td>\n      <td>2.6</td>\n      <td>0</td>\n      <td>Non-Target</td>\n    </tr>\n    <tr>\n      <th>9</th>\n      <td>Mark Jackson</td>\n      <td>IND</td>\n      <td>32.0</td>\n      <td>190.50</td>\n      <td>83.914520</td>\n      <td>9.9</td>\n      <td>4.8</td>\n      <td>0</td>\n      <td>Non-Target</td>\n    </tr>\n  </tbody>\n</table>\n</div>",
      "text/plain": "              name club   age  height      weight   pts  reb  status_en  \\\n0   Chris Robinson  VAN  23.0  195.58   90.718400   4.6  1.7          0   \n1        Matt Fish  MIA  27.0  210.82  106.594120   0.3  0.8          0   \n2     Matt Bullard  HOU  30.0  208.28  106.594120   4.5  1.6          0   \n3     Marty Conlon  BOS  29.0  210.82  111.130040   7.8  4.4          0   \n4  Martin Muursepp  DAL  22.0  205.74  106.594120   3.7  1.6          0   \n5     Martin Lewis  TOR  22.0  198.12  102.058200   1.6  0.7          0   \n6        Mark West  CLE  36.0  208.28  111.583632   3.2  2.7          0   \n7  Mark Strickland  MIA  26.0  208.28   99.790240   2.0  1.2          0   \n8       Mark Price  GSW  33.0  182.88   81.646560  11.3  2.6          0   \n9     Mark Jackson  IND  32.0  190.50   83.914520   9.9  4.8          0   \n\n       status  \n0  Non-Target  \n1  Non-Target  \n2  Non-Target  \n3  Non-Target  \n4  Non-Target  \n5  Non-Target  \n6  Non-Target  \n7  Non-Target  \n8  Non-Target  \n9  Non-Target  "
     },
     "execution_count": 173,
     "metadata": {},
     "output_type": "execute_result"
    }
   ],
   "source": [
    "### Labeling Target\n",
    "le = LabelEncoder()\n",
    "df_new1 = df_new #mau di drop kolom statusnya\n",
    "df_new1['status_en'] = le.fit_transform(df_new1['status']) ####0 bukan target, 1 target\n",
    "# df_new1 = df_new1.drop(['status'], axis=1)\n",
    "df_new1.head(10)"
   ]
  },
  {
   "cell_type": "markdown",
   "execution_count": null,
   "metadata": {},
   "outputs": [],
   "source": [
    "### Standarisasi"
   ]
  },
  {
   "cell_type": "code",
   "execution_count": 46,
   "metadata": {},
   "outputs": [],
   "source": [
    "#Standarisasi\n",
    "ss = StandardScaler()"
   ]
  },
  {
   "cell_type": "code",
   "execution_count": 47,
   "metadata": {},
   "outputs": [
    {
     "data": {
      "text/plain": "array([[-0.99674183, -0.57899275, -0.80260413, -0.58938997, -0.74785002],\n       [-0.07727165,  1.06312962,  0.43960663, -1.31961423, -1.10871173],\n       [ 0.61233098,  0.78944256,  0.43960663, -0.60637193, -0.78794577],\n       ...,\n       [-0.53700674,  2.15787786,  1.50435871, -0.69128173,  0.7757883 ],\n       [-0.99674183,  1.06312962,  0.61706531,  0.02196056,  1.37722448],\n       [ 0.61233098,  0.24206844,  0.08468927,  1.29560752,  1.17674575]])"
     },
     "execution_count": 47,
     "metadata": {},
     "output_type": "execute_result"
    }
   ],
   "source": [
    "std = ss.fit_transform(df_new1.loc[:,'age':'reb'])\n",
    "std"
   ]
  },
  {
   "cell_type": "code",
   "execution_count": 48,
   "metadata": {},
   "outputs": [
    {
     "data": {
      "text/html": "<div>\n<style scoped>\n    .dataframe tbody tr th:only-of-type {\n        vertical-align: middle;\n    }\n\n    .dataframe tbody tr th {\n        vertical-align: top;\n    }\n\n    .dataframe thead th {\n        text-align: right;\n    }\n</style>\n<table border=\"1\" class=\"dataframe\">\n  <thead>\n    <tr style=\"text-align: right;\">\n      <th></th>\n      <th>age</th>\n      <th>height</th>\n      <th>weight</th>\n      <th>pts</th>\n      <th>reb</th>\n    </tr>\n  </thead>\n  <tbody>\n    <tr>\n      <th>0</th>\n      <td>-0.996742</td>\n      <td>-0.578993</td>\n      <td>-0.802604</td>\n      <td>-0.589390</td>\n      <td>-0.747850</td>\n    </tr>\n    <tr>\n      <th>1</th>\n      <td>-0.077272</td>\n      <td>1.063130</td>\n      <td>0.439607</td>\n      <td>-1.319614</td>\n      <td>-1.108712</td>\n    </tr>\n    <tr>\n      <th>2</th>\n      <td>0.612331</td>\n      <td>0.789443</td>\n      <td>0.439607</td>\n      <td>-0.606372</td>\n      <td>-0.787946</td>\n    </tr>\n    <tr>\n      <th>3</th>\n      <td>0.382463</td>\n      <td>1.063130</td>\n      <td>0.794524</td>\n      <td>-0.045967</td>\n      <td>0.334735</td>\n    </tr>\n    <tr>\n      <th>4</th>\n      <td>-1.226609</td>\n      <td>0.515755</td>\n      <td>0.439607</td>\n      <td>-0.742228</td>\n      <td>-0.787946</td>\n    </tr>\n    <tr>\n      <th>...</th>\n      <td>...</td>\n      <td>...</td>\n      <td>...</td>\n      <td>...</td>\n      <td>...</td>\n    </tr>\n    <tr>\n      <th>9556</th>\n      <td>0.382463</td>\n      <td>-0.031619</td>\n      <td>-0.270228</td>\n      <td>-1.115831</td>\n      <td>-0.226605</td>\n    </tr>\n    <tr>\n      <th>9557</th>\n      <td>-0.996742</td>\n      <td>-0.852680</td>\n      <td>-1.334980</td>\n      <td>0.803131</td>\n      <td>0.455022</td>\n    </tr>\n    <tr>\n      <th>9558</th>\n      <td>-0.537007</td>\n      <td>2.157878</td>\n      <td>1.504359</td>\n      <td>-0.691282</td>\n      <td>0.775788</td>\n    </tr>\n    <tr>\n      <th>9559</th>\n      <td>-0.996742</td>\n      <td>1.063130</td>\n      <td>0.617065</td>\n      <td>0.021961</td>\n      <td>1.377224</td>\n    </tr>\n    <tr>\n      <th>9560</th>\n      <td>0.612331</td>\n      <td>0.242068</td>\n      <td>0.084689</td>\n      <td>1.295608</td>\n      <td>1.176746</td>\n    </tr>\n  </tbody>\n</table>\n<p>9561 rows × 5 columns</p>\n</div>",
      "text/plain": "           age    height    weight       pts       reb\n0    -0.996742 -0.578993 -0.802604 -0.589390 -0.747850\n1    -0.077272  1.063130  0.439607 -1.319614 -1.108712\n2     0.612331  0.789443  0.439607 -0.606372 -0.787946\n3     0.382463  1.063130  0.794524 -0.045967  0.334735\n4    -1.226609  0.515755  0.439607 -0.742228 -0.787946\n...        ...       ...       ...       ...       ...\n9556  0.382463 -0.031619 -0.270228 -1.115831 -0.226605\n9557 -0.996742 -0.852680 -1.334980  0.803131  0.455022\n9558 -0.537007  2.157878  1.504359 -0.691282  0.775788\n9559 -0.996742  1.063130  0.617065  0.021961  1.377224\n9560  0.612331  0.242068  0.084689  1.295608  1.176746\n\n[9561 rows x 5 columns]"
     },
     "execution_count": 48,
     "metadata": {},
     "output_type": "execute_result"
    }
   ],
   "source": [
    "dfStd = pd.DataFrame(std, columns=['age','height','weight','pts','reb'])\n",
    "dfStd"
   ]
  },
  {
   "cell_type": "code",
   "execution_count": 49,
   "metadata": {},
   "outputs": [
    {
     "data": {
      "text/html": "<div>\n<style scoped>\n    .dataframe tbody tr th:only-of-type {\n        vertical-align: middle;\n    }\n\n    .dataframe tbody tr th {\n        vertical-align: top;\n    }\n\n    .dataframe thead th {\n        text-align: right;\n    }\n</style>\n<table border=\"1\" class=\"dataframe\">\n  <thead>\n    <tr style=\"text-align: right;\">\n      <th></th>\n      <th>age</th>\n      <th>height</th>\n      <th>weight</th>\n      <th>pts</th>\n      <th>reb</th>\n    </tr>\n  </thead>\n  <tbody>\n    <tr>\n      <th>0</th>\n      <td>-0.996742</td>\n      <td>-0.578993</td>\n      <td>-0.802604</td>\n      <td>-0.589390</td>\n      <td>-0.747850</td>\n    </tr>\n    <tr>\n      <th>1</th>\n      <td>-0.077272</td>\n      <td>1.063130</td>\n      <td>0.439607</td>\n      <td>-1.319614</td>\n      <td>-1.108712</td>\n    </tr>\n    <tr>\n      <th>2</th>\n      <td>0.612331</td>\n      <td>0.789443</td>\n      <td>0.439607</td>\n      <td>-0.606372</td>\n      <td>-0.787946</td>\n    </tr>\n    <tr>\n      <th>3</th>\n      <td>0.382463</td>\n      <td>1.063130</td>\n      <td>0.794524</td>\n      <td>-0.045967</td>\n      <td>0.334735</td>\n    </tr>\n    <tr>\n      <th>4</th>\n      <td>-1.226609</td>\n      <td>0.515755</td>\n      <td>0.439607</td>\n      <td>-0.742228</td>\n      <td>-0.787946</td>\n    </tr>\n    <tr>\n      <th>...</th>\n      <td>...</td>\n      <td>...</td>\n      <td>...</td>\n      <td>...</td>\n      <td>...</td>\n    </tr>\n    <tr>\n      <th>9556</th>\n      <td>0.382463</td>\n      <td>-0.031619</td>\n      <td>-0.270228</td>\n      <td>-1.115831</td>\n      <td>-0.226605</td>\n    </tr>\n    <tr>\n      <th>9557</th>\n      <td>-0.996742</td>\n      <td>-0.852680</td>\n      <td>-1.334980</td>\n      <td>0.803131</td>\n      <td>0.455022</td>\n    </tr>\n    <tr>\n      <th>9558</th>\n      <td>-0.537007</td>\n      <td>2.157878</td>\n      <td>1.504359</td>\n      <td>-0.691282</td>\n      <td>0.775788</td>\n    </tr>\n    <tr>\n      <th>9559</th>\n      <td>-0.996742</td>\n      <td>1.063130</td>\n      <td>0.617065</td>\n      <td>0.021961</td>\n      <td>1.377224</td>\n    </tr>\n    <tr>\n      <th>9560</th>\n      <td>0.612331</td>\n      <td>0.242068</td>\n      <td>0.084689</td>\n      <td>1.295608</td>\n      <td>1.176746</td>\n    </tr>\n  </tbody>\n</table>\n<p>9561 rows × 5 columns</p>\n</div>",
      "text/plain": "           age    height    weight       pts       reb\n0    -0.996742 -0.578993 -0.802604 -0.589390 -0.747850\n1    -0.077272  1.063130  0.439607 -1.319614 -1.108712\n2     0.612331  0.789443  0.439607 -0.606372 -0.787946\n3     0.382463  1.063130  0.794524 -0.045967  0.334735\n4    -1.226609  0.515755  0.439607 -0.742228 -0.787946\n...        ...       ...       ...       ...       ...\n9556  0.382463 -0.031619 -0.270228 -1.115831 -0.226605\n9557 -0.996742 -0.852680 -1.334980  0.803131  0.455022\n9558 -0.537007  2.157878  1.504359 -0.691282  0.775788\n9559 -0.996742  1.063130  0.617065  0.021961  1.377224\n9560  0.612331  0.242068  0.084689  1.295608  1.176746\n\n[9561 rows x 5 columns]"
     },
     "execution_count": 49,
     "metadata": {},
     "output_type": "execute_result"
    }
   ],
   "source": [
    "#Check outlier, -2.5 < z-score > 2.5\n",
    "Std_atas = dfStd[dfStd<2.5]\n",
    "Std_atas"
   ]
  },
  {
   "cell_type": "code",
   "execution_count": 50,
   "metadata": {},
   "outputs": [
    {
     "data": {
      "text/html": "<div>\n<style scoped>\n    .dataframe tbody tr th:only-of-type {\n        vertical-align: middle;\n    }\n\n    .dataframe tbody tr th {\n        vertical-align: top;\n    }\n\n    .dataframe thead th {\n        text-align: right;\n    }\n</style>\n<table border=\"1\" class=\"dataframe\">\n  <thead>\n    <tr style=\"text-align: right;\">\n      <th></th>\n      <th>age</th>\n      <th>height</th>\n      <th>weight</th>\n      <th>pts</th>\n      <th>reb</th>\n    </tr>\n  </thead>\n  <tbody>\n    <tr>\n      <th>0</th>\n      <td>-0.996742</td>\n      <td>-0.578993</td>\n      <td>-0.802604</td>\n      <td>-0.589390</td>\n      <td>-0.747850</td>\n    </tr>\n    <tr>\n      <th>1</th>\n      <td>-0.077272</td>\n      <td>1.063130</td>\n      <td>0.439607</td>\n      <td>-1.319614</td>\n      <td>-1.108712</td>\n    </tr>\n    <tr>\n      <th>2</th>\n      <td>0.612331</td>\n      <td>0.789443</td>\n      <td>0.439607</td>\n      <td>-0.606372</td>\n      <td>-0.787946</td>\n    </tr>\n    <tr>\n      <th>3</th>\n      <td>0.382463</td>\n      <td>1.063130</td>\n      <td>0.794524</td>\n      <td>-0.045967</td>\n      <td>0.334735</td>\n    </tr>\n    <tr>\n      <th>4</th>\n      <td>-1.226609</td>\n      <td>0.515755</td>\n      <td>0.439607</td>\n      <td>-0.742228</td>\n      <td>-0.787946</td>\n    </tr>\n    <tr>\n      <th>...</th>\n      <td>...</td>\n      <td>...</td>\n      <td>...</td>\n      <td>...</td>\n      <td>...</td>\n    </tr>\n    <tr>\n      <th>9556</th>\n      <td>0.382463</td>\n      <td>-0.031619</td>\n      <td>-0.270228</td>\n      <td>-1.115831</td>\n      <td>-0.226605</td>\n    </tr>\n    <tr>\n      <th>9557</th>\n      <td>-0.996742</td>\n      <td>-0.852680</td>\n      <td>-1.334980</td>\n      <td>0.803131</td>\n      <td>0.455022</td>\n    </tr>\n    <tr>\n      <th>9558</th>\n      <td>-0.537007</td>\n      <td>2.157878</td>\n      <td>1.504359</td>\n      <td>-0.691282</td>\n      <td>0.775788</td>\n    </tr>\n    <tr>\n      <th>9559</th>\n      <td>-0.996742</td>\n      <td>1.063130</td>\n      <td>0.617065</td>\n      <td>0.021961</td>\n      <td>1.377224</td>\n    </tr>\n    <tr>\n      <th>9560</th>\n      <td>0.612331</td>\n      <td>0.242068</td>\n      <td>0.084689</td>\n      <td>1.295608</td>\n      <td>1.176746</td>\n    </tr>\n  </tbody>\n</table>\n<p>9561 rows × 5 columns</p>\n</div>",
      "text/plain": "           age    height    weight       pts       reb\n0    -0.996742 -0.578993 -0.802604 -0.589390 -0.747850\n1    -0.077272  1.063130  0.439607 -1.319614 -1.108712\n2     0.612331  0.789443  0.439607 -0.606372 -0.787946\n3     0.382463  1.063130  0.794524 -0.045967  0.334735\n4    -1.226609  0.515755  0.439607 -0.742228 -0.787946\n...        ...       ...       ...       ...       ...\n9556  0.382463 -0.031619 -0.270228 -1.115831 -0.226605\n9557 -0.996742 -0.852680 -1.334980  0.803131  0.455022\n9558 -0.537007  2.157878  1.504359 -0.691282  0.775788\n9559 -0.996742  1.063130  0.617065  0.021961  1.377224\n9560  0.612331  0.242068  0.084689  1.295608  1.176746\n\n[9561 rows x 5 columns]"
     },
     "execution_count": 50,
     "metadata": {},
     "output_type": "execute_result"
    }
   ],
   "source": [
    "no_outliers = Std_atas[Std_atas>-2.5]\n",
    "no_outliers"
   ]
  },
  {
   "cell_type": "code",
   "execution_count": 51,
   "metadata": {},
   "outputs": [
    {
     "data": {
      "text/plain": "age        82\nheight     62\nweight     80\npts       209\nreb       267\ndtype: int64"
     },
     "execution_count": 51,
     "metadata": {},
     "output_type": "execute_result"
    }
   ],
   "source": [
    "no_outliers.isnull().sum()"
   ]
  },
  {
   "cell_type": "code",
   "execution_count": 52,
   "metadata": {},
   "outputs": [
    {
     "data": {
      "text/plain": "(8948, 5)"
     },
     "execution_count": 52,
     "metadata": {},
     "output_type": "execute_result"
    }
   ],
   "source": [
    "std_new = outliers.dropna()\n",
    "std_new.shape"
   ]
  },
  {
   "cell_type": "markdown",
   "execution_count": null,
   "metadata": {},
   "outputs": [],
   "source": [
    "### Splitting"
   ]
  },
  {
   "cell_type": "code",
   "execution_count": 53,
   "metadata": {},
   "outputs": [
    {
     "name": "stderr",
     "output_type": "stream",
     "text": "C:\\ProgramData\\Anaconda3\\lib\\site-packages\\ipykernel_launcher.py:1: SettingWithCopyWarning: \nA value is trying to be set on a copy of a slice from a DataFrame.\nTry using .loc[row_indexer,col_indexer] = value instead\n\nSee the caveats in the documentation: http://pandas.pydata.org/pandas-docs/stable/user_guide/indexing.html#returning-a-view-versus-a-copy\n  \"\"\"Entry point for launching an IPython kernel.\n"
    },
    {
     "data": {
      "text/html": "<div>\n<style scoped>\n    .dataframe tbody tr th:only-of-type {\n        vertical-align: middle;\n    }\n\n    .dataframe tbody tr th {\n        vertical-align: top;\n    }\n\n    .dataframe thead th {\n        text-align: right;\n    }\n</style>\n<table border=\"1\" class=\"dataframe\">\n  <thead>\n    <tr style=\"text-align: right;\">\n      <th></th>\n      <th>age</th>\n      <th>height</th>\n      <th>weight</th>\n      <th>pts</th>\n      <th>reb</th>\n      <th>status_en</th>\n    </tr>\n  </thead>\n  <tbody>\n    <tr>\n      <th>0</th>\n      <td>-0.996742</td>\n      <td>-0.578993</td>\n      <td>-0.802604</td>\n      <td>-0.589390</td>\n      <td>-0.747850</td>\n      <td>0</td>\n    </tr>\n    <tr>\n      <th>1</th>\n      <td>-0.077272</td>\n      <td>1.063130</td>\n      <td>0.439607</td>\n      <td>-1.319614</td>\n      <td>-1.108712</td>\n      <td>0</td>\n    </tr>\n    <tr>\n      <th>2</th>\n      <td>0.612331</td>\n      <td>0.789443</td>\n      <td>0.439607</td>\n      <td>-0.606372</td>\n      <td>-0.787946</td>\n      <td>0</td>\n    </tr>\n    <tr>\n      <th>3</th>\n      <td>0.382463</td>\n      <td>1.063130</td>\n      <td>0.794524</td>\n      <td>-0.045967</td>\n      <td>0.334735</td>\n      <td>0</td>\n    </tr>\n    <tr>\n      <th>4</th>\n      <td>-1.226609</td>\n      <td>0.515755</td>\n      <td>0.439607</td>\n      <td>-0.742228</td>\n      <td>-0.787946</td>\n      <td>0</td>\n    </tr>\n    <tr>\n      <th>...</th>\n      <td>...</td>\n      <td>...</td>\n      <td>...</td>\n      <td>...</td>\n      <td>...</td>\n      <td>...</td>\n    </tr>\n    <tr>\n      <th>9556</th>\n      <td>0.382463</td>\n      <td>-0.031619</td>\n      <td>-0.270228</td>\n      <td>-1.115831</td>\n      <td>-0.226605</td>\n      <td>0</td>\n    </tr>\n    <tr>\n      <th>9557</th>\n      <td>-0.996742</td>\n      <td>-0.852680</td>\n      <td>-1.334980</td>\n      <td>0.803131</td>\n      <td>0.455022</td>\n      <td>1</td>\n    </tr>\n    <tr>\n      <th>9558</th>\n      <td>-0.537007</td>\n      <td>2.157878</td>\n      <td>1.504359</td>\n      <td>-0.691282</td>\n      <td>0.775788</td>\n      <td>0</td>\n    </tr>\n    <tr>\n      <th>9559</th>\n      <td>-0.996742</td>\n      <td>1.063130</td>\n      <td>0.617065</td>\n      <td>0.021961</td>\n      <td>1.377224</td>\n      <td>0</td>\n    </tr>\n    <tr>\n      <th>9560</th>\n      <td>0.612331</td>\n      <td>0.242068</td>\n      <td>0.084689</td>\n      <td>1.295608</td>\n      <td>1.176746</td>\n      <td>0</td>\n    </tr>\n  </tbody>\n</table>\n<p>8948 rows × 6 columns</p>\n</div>",
      "text/plain": "           age    height    weight       pts       reb  status_en\n0    -0.996742 -0.578993 -0.802604 -0.589390 -0.747850          0\n1    -0.077272  1.063130  0.439607 -1.319614 -1.108712          0\n2     0.612331  0.789443  0.439607 -0.606372 -0.787946          0\n3     0.382463  1.063130  0.794524 -0.045967  0.334735          0\n4    -1.226609  0.515755  0.439607 -0.742228 -0.787946          0\n...        ...       ...       ...       ...       ...        ...\n9556  0.382463 -0.031619 -0.270228 -1.115831 -0.226605          0\n9557 -0.996742 -0.852680 -1.334980  0.803131  0.455022          1\n9558 -0.537007  2.157878  1.504359 -0.691282  0.775788          0\n9559 -0.996742  1.063130  0.617065  0.021961  1.377224          0\n9560  0.612331  0.242068  0.084689  1.295608  1.176746          0\n\n[8948 rows x 6 columns]"
     },
     "execution_count": 53,
     "metadata": {},
     "output_type": "execute_result"
    }
   ],
   "source": [
    "std_new['status_en'] = df_new1['status_en']\n",
    "std_new"
   ]
  },
  {
   "cell_type": "code",
   "execution_count": 54,
   "metadata": {},
   "outputs": [
    {
     "name": "stdout",
     "output_type": "stream",
     "text": "(8948, 5)\n(8948,)\n"
    }
   ],
   "source": [
    "x = std_new[['age','height','weight','pts','reb']]\n",
    "y = std_new['status_en']\n",
    "print(x.shape)\n",
    "print(y.shape)"
   ]
  },
  {
   "cell_type": "code",
   "execution_count": 57,
   "metadata": {},
   "outputs": [
    {
     "name": "stdout",
     "output_type": "stream",
     "text": "(7337, 5)\n(7337,)\n(1611, 5)\n(1611,)\n"
    }
   ],
   "source": [
    "xtr, xts, ytr, yts = train_test_split(x,y,test_size=.18)\n",
    "print(xtr.shape)\n",
    "print(ytr.shape)\n",
    "print(xts.shape)\n",
    "print(yts.shape)"
   ]
  },
  {
   "cell_type": "markdown",
   "execution_count": null,
   "metadata": {},
   "outputs": [],
   "source": [
    "### Hyperparameter Logistic Regression"
   ]
  },
  {
   "cell_type": "code",
   "execution_count": 69,
   "metadata": {},
   "outputs": [
    {
     "data": {
      "text/plain": "{'penalty': ['l1', 'l2', 'elasticnet', 'none'],\n 'solver': ['newton-cg', 'lbfgs', 'liblinear', 'sag', 'saga'],\n 'max_iter': [1, 10, 50, 100, 500, 1000, 5000, 100000]}"
     },
     "execution_count": 69,
     "metadata": {},
     "output_type": "execute_result"
    }
   ],
   "source": [
    "#parameter logistic regression\n",
    "penalty = ['l1','l2','elasticnet','none']\n",
    "solver = ['newton-cg', 'lbfgs', 'liblinear', 'sag', 'saga']\n",
    "max_iter = [1,10,50,100,500,1000,5000,100000]\n",
    "param = {\n",
    "    'penalty': penalty, 'solver': solver, 'max_iter': max_iter\n",
    "}\n",
    "param"
   ]
  },
  {
   "cell_type": "code",
   "execution_count": 70,
   "metadata": {},
   "outputs": [
    {
     "data": {
      "text/plain": "RandomizedSearchCV(cv=5, error_score=nan,\n                   estimator=LogisticRegression(C=1.0, class_weight=None,\n                                                dual=False, fit_intercept=True,\n                                                intercept_scaling=1,\n                                                l1_ratio=None, max_iter=100,\n                                                multi_class='auto', n_jobs=None,\n                                                penalty='l2', random_state=None,\n                                                solver='lbfgs', tol=0.0001,\n                                                verbose=0, warm_start=False),\n                   iid='deprecated', n_iter=10, n_jobs=None,\n                   param_distributions={'max_iter': [1, 10, 50, 100, 500, 1000,\n                                                     5000, 100000],\n                                        'penalty': ['l1', 'l2', 'elasticnet',\n                                                    'none'],\n                                        'solver': ['newton-cg', 'lbfgs',\n                                                   'liblinear', 'sag',\n                                                   'saga']},\n                   pre_dispatch='2*n_jobs', random_state=None, refit=True,\n                   return_train_score=False, scoring=None, verbose=0)"
     },
     "execution_count": 70,
     "metadata": {},
     "output_type": "execute_result"
    }
   ],
   "source": [
    "# Logistic Regression\n",
    "lr = LogisticRegression()\n",
    "lrRS = RandomizedSearchCV(estimator=lr, param_distributions=param, cv=5, n_iter=10)\n",
    "lrRS"
   ]
  },
  {
   "cell_type": "code",
   "execution_count": 71,
   "metadata": {},
   "outputs": [
    {
     "name": "stderr",
     "output_type": "stream",
     "text": "C:\\ProgramData\\Anaconda3\\lib\\site-packages\\sklearn\\model_selection\\_validation.py:536: FitFailedWarning: Estimator fit failed. The score on this train-test partition for these parameters will be set to nan. Details: \nValueError: Only 'saga' solver supports elasticnet penalty, got solver=liblinear.\n\n  FitFailedWarning)\nC:\\ProgramData\\Anaconda3\\lib\\site-packages\\sklearn\\model_selection\\_validation.py:536: FitFailedWarning: Estimator fit failed. The score on this train-test partition for these parameters will be set to nan. Details: \nValueError: Solver sag supports only 'l2' or 'none' penalties, got l1 penalty.\n\n  FitFailedWarning)\nC:\\ProgramData\\Anaconda3\\lib\\site-packages\\sklearn\\utils\\optimize.py:212: ConvergenceWarning: newton-cg failed to converge. Increase the number of iterations.\n  \"number of iterations.\", ConvergenceWarning)\nC:\\ProgramData\\Anaconda3\\lib\\site-packages\\sklearn\\utils\\optimize.py:212: ConvergenceWarning: newton-cg failed to converge. Increase the number of iterations.\n  \"number of iterations.\", ConvergenceWarning)\nC:\\ProgramData\\Anaconda3\\lib\\site-packages\\sklearn\\utils\\optimize.py:212: ConvergenceWarning: newton-cg failed to converge. Increase the number of iterations.\n  \"number of iterations.\", ConvergenceWarning)\nC:\\ProgramData\\Anaconda3\\lib\\site-packages\\sklearn\\utils\\optimize.py:212: ConvergenceWarning: newton-cg failed to converge. Increase the number of iterations.\n  \"number of iterations.\", ConvergenceWarning)\nC:\\ProgramData\\Anaconda3\\lib\\site-packages\\sklearn\\utils\\optimize.py:212: ConvergenceWarning: newton-cg failed to converge. Increase the number of iterations.\n  \"number of iterations.\", ConvergenceWarning)\nC:\\ProgramData\\Anaconda3\\lib\\site-packages\\sklearn\\model_selection\\_validation.py:536: FitFailedWarning: Estimator fit failed. The score on this train-test partition for these parameters will be set to nan. Details: \nValueError: l1_ratio must be between 0 and 1; got (l1_ratio=None)\n\n  FitFailedWarning)\nC:\\ProgramData\\Anaconda3\\lib\\site-packages\\sklearn\\linear_model\\_sag.py:330: ConvergenceWarning: The max_iter was reached which means the coef_ did not converge\n  \"the coef_ did not converge\", ConvergenceWarning)\nC:\\ProgramData\\Anaconda3\\lib\\site-packages\\sklearn\\linear_model\\_sag.py:330: ConvergenceWarning: The max_iter was reached which means the coef_ did not converge\n  \"the coef_ did not converge\", ConvergenceWarning)\nC:\\ProgramData\\Anaconda3\\lib\\site-packages\\sklearn\\linear_model\\_sag.py:330: ConvergenceWarning: The max_iter was reached which means the coef_ did not converge\n  \"the coef_ did not converge\", ConvergenceWarning)\nC:\\ProgramData\\Anaconda3\\lib\\site-packages\\sklearn\\linear_model\\_sag.py:330: ConvergenceWarning: The max_iter was reached which means the coef_ did not converge\n  \"the coef_ did not converge\", ConvergenceWarning)\nC:\\ProgramData\\Anaconda3\\lib\\site-packages\\sklearn\\linear_model\\_sag.py:330: ConvergenceWarning: The max_iter was reached which means the coef_ did not converge\n  \"the coef_ did not converge\", ConvergenceWarning)\nC:\\ProgramData\\Anaconda3\\lib\\site-packages\\sklearn\\model_selection\\_validation.py:536: FitFailedWarning: Estimator fit failed. The score on this train-test partition for these parameters will be set to nan. Details: \nValueError: l1_ratio must be between 0 and 1; got (l1_ratio=None)\n\n  FitFailedWarning)\n"
    },
    {
     "data": {
      "text/plain": "RandomizedSearchCV(cv=5, error_score=nan,\n                   estimator=LogisticRegression(C=1.0, class_weight=None,\n                                                dual=False, fit_intercept=True,\n                                                intercept_scaling=1,\n                                                l1_ratio=None, max_iter=100,\n                                                multi_class='auto', n_jobs=None,\n                                                penalty='l2', random_state=None,\n                                                solver='lbfgs', tol=0.0001,\n                                                verbose=0, warm_start=False),\n                   iid='deprecated', n_iter=10, n_jobs=None,\n                   param_distributions={'max_iter': [1, 10, 50, 100, 500, 1000,\n                                                     5000, 100000],\n                                        'penalty': ['l1', 'l2', 'elasticnet',\n                                                    'none'],\n                                        'solver': ['newton-cg', 'lbfgs',\n                                                   'liblinear', 'sag',\n                                                   'saga']},\n                   pre_dispatch='2*n_jobs', random_state=None, refit=True,\n                   return_train_score=False, scoring=None, verbose=0)"
     },
     "execution_count": 71,
     "metadata": {},
     "output_type": "execute_result"
    }
   ],
   "source": [
    "lrRS.fit(xtr,ytr)"
   ]
  },
  {
   "cell_type": "code",
   "execution_count": 72,
   "metadata": {},
   "outputs": [
    {
     "data": {
      "text/plain": "{'solver': 'sag', 'penalty': 'l2', 'max_iter': 1000}"
     },
     "execution_count": 72,
     "metadata": {},
     "output_type": "execute_result"
    }
   ],
   "source": [
    "lrRS.best_params_"
   ]
  },
  {
   "cell_type": "code",
   "execution_count": 75,
   "metadata": {},
   "outputs": [
    {
     "data": {
      "text/plain": "LogisticRegression(C=1.0, class_weight=None, dual=False, fit_intercept=True,\n                   intercept_scaling=1, l1_ratio=None, max_iter=1000,\n                   multi_class='auto', n_jobs=None, penalty='l2',\n                   random_state=None, solver='sag', tol=0.0001, verbose=0,\n                   warm_start=False)"
     },
     "execution_count": 75,
     "metadata": {},
     "output_type": "execute_result"
    }
   ],
   "source": [
    "lrNew = LogisticRegression(solver= 'sag', penalty= 'l2', max_iter= 1000)\n",
    "lrNew.fit(xtr,ytr)"
   ]
  },
  {
   "cell_type": "code",
   "execution_count": 86,
   "metadata": {},
   "outputs": [
    {
     "data": {
      "text/plain": "0.9813780260707635"
     },
     "execution_count": 86,
     "metadata": {},
     "output_type": "execute_result"
    }
   ],
   "source": [
    "lrScore = lrNew.score(xts,yts)\n",
    "lrScore"
   ]
  },
  {
   "cell_type": "markdown",
   "execution_count": 77,
   "metadata": {},
   "outputs": [],
   "source": [
    "### Hyperparameter Decision Tree"
   ]
  },
  {
   "cell_type": "code",
   "execution_count": 78,
   "metadata": {},
   "outputs": [
    {
     "data": {
      "text/plain": "{'criterion': ['gini', 'entropy'],\n 'splitter': ['best', 'random'],\n 'max_features': ['int', 'float', 'auto', 'sqrt', 'log2']}"
     },
     "execution_count": 78,
     "metadata": {},
     "output_type": "execute_result"
    }
   ],
   "source": [
    "#parameter Decision Tree\n",
    "criterion = ['gini','entropy']\n",
    "splitter = ['best', 'random']\n",
    "max_features = ['int','float','auto','sqrt','log2']\n",
    "param = {\n",
    "    'criterion': criterion, 'splitter': splitter, 'max_features': max_features\n",
    "}\n",
    "param"
   ]
  },
  {
   "cell_type": "code",
   "execution_count": 79,
   "metadata": {},
   "outputs": [
    {
     "data": {
      "text/plain": "RandomizedSearchCV(cv=5, error_score=nan,\n                   estimator=DecisionTreeClassifier(ccp_alpha=0.0,\n                                                    class_weight=None,\n                                                    criterion='gini',\n                                                    max_depth=None,\n                                                    max_features=None,\n                                                    max_leaf_nodes=None,\n                                                    min_impurity_decrease=0.0,\n                                                    min_impurity_split=None,\n                                                    min_samples_leaf=1,\n                                                    min_samples_split=2,\n                                                    min_weight_fraction_leaf=0.0,\n                                                    presort='deprecated',\n                                                    random_state=None,\n                                                    splitter='best'),\n                   iid='deprecated', n_iter=10, n_jobs=None,\n                   param_distributions={'criterion': ['gini', 'entropy'],\n                                        'max_features': ['int', 'float', 'auto',\n                                                         'sqrt', 'log2'],\n                                        'splitter': ['best', 'random']},\n                   pre_dispatch='2*n_jobs', random_state=None, refit=True,\n                   return_train_score=False, scoring=None, verbose=0)"
     },
     "execution_count": 79,
     "metadata": {},
     "output_type": "execute_result"
    }
   ],
   "source": [
    "# Decision Tree\n",
    "dtc = DecisionTreeClassifier()\n",
    "dtcRS = RandomizedSearchCV(estimator=dtc, param_distributions=param, cv=5, n_iter=10)\n",
    "dtcRS"
   ]
  },
  {
   "cell_type": "code",
   "execution_count": 80,
   "metadata": {},
   "outputs": [
    {
     "name": "stderr",
     "output_type": "stream",
     "text": "C:\\ProgramData\\Anaconda3\\lib\\site-packages\\sklearn\\model_selection\\_validation.py:536: FitFailedWarning: Estimator fit failed. The score on this train-test partition for these parameters will be set to nan. Details: \nValueError: Invalid value for max_features. Allowed string values are 'auto', 'sqrt' or 'log2'.\n\n  FitFailedWarning)\nC:\\ProgramData\\Anaconda3\\lib\\site-packages\\sklearn\\model_selection\\_validation.py:536: FitFailedWarning: Estimator fit failed. The score on this train-test partition for these parameters will be set to nan. Details: \nValueError: Invalid value for max_features. Allowed string values are 'auto', 'sqrt' or 'log2'.\n\n  FitFailedWarning)\nC:\\ProgramData\\Anaconda3\\lib\\site-packages\\sklearn\\model_selection\\_validation.py:536: FitFailedWarning: Estimator fit failed. The score on this train-test partition for these parameters will be set to nan. Details: \nValueError: Invalid value for max_features. Allowed string values are 'auto', 'sqrt' or 'log2'.\n\n  FitFailedWarning)\nC:\\ProgramData\\Anaconda3\\lib\\site-packages\\sklearn\\model_selection\\_validation.py:536: FitFailedWarning: Estimator fit failed. The score on this train-test partition for these parameters will be set to nan. Details: \nValueError: Invalid value for max_features. Allowed string values are 'auto', 'sqrt' or 'log2'.\n\n  FitFailedWarning)\nC:\\ProgramData\\Anaconda3\\lib\\site-packages\\sklearn\\model_selection\\_validation.py:536: FitFailedWarning: Estimator fit failed. The score on this train-test partition for these parameters will be set to nan. Details: \nValueError: Invalid value for max_features. Allowed string values are 'auto', 'sqrt' or 'log2'.\n\n  FitFailedWarning)\nC:\\ProgramData\\Anaconda3\\lib\\site-packages\\sklearn\\model_selection\\_validation.py:536: FitFailedWarning: Estimator fit failed. The score on this train-test partition for these parameters will be set to nan. Details: \nValueError: Invalid value for max_features. Allowed string values are 'auto', 'sqrt' or 'log2'.\n\n  FitFailedWarning)\nC:\\ProgramData\\Anaconda3\\lib\\site-packages\\sklearn\\model_selection\\_validation.py:536: FitFailedWarning: Estimator fit failed. The score on this train-test partition for these parameters will be set to nan. Details: \nValueError: Invalid value for max_features. Allowed string values are 'auto', 'sqrt' or 'log2'.\n\n  FitFailedWarning)\nC:\\ProgramData\\Anaconda3\\lib\\site-packages\\sklearn\\model_selection\\_validation.py:536: FitFailedWarning: Estimator fit failed. The score on this train-test partition for these parameters will be set to nan. Details: \nValueError: Invalid value for max_features. Allowed string values are 'auto', 'sqrt' or 'log2'.\n\n  FitFailedWarning)\nC:\\ProgramData\\Anaconda3\\lib\\site-packages\\sklearn\\model_selection\\_validation.py:536: FitFailedWarning: Estimator fit failed. The score on this train-test partition for these parameters will be set to nan. Details: \nValueError: Invalid value for max_features. Allowed string values are 'auto', 'sqrt' or 'log2'.\n\n  FitFailedWarning)\nC:\\ProgramData\\Anaconda3\\lib\\site-packages\\sklearn\\model_selection\\_validation.py:536: FitFailedWarning: Estimator fit failed. The score on this train-test partition for these parameters will be set to nan. Details: \nValueError: Invalid value for max_features. Allowed string values are 'auto', 'sqrt' or 'log2'.\n\n  FitFailedWarning)\nC:\\ProgramData\\Anaconda3\\lib\\site-packages\\sklearn\\model_selection\\_validation.py:536: FitFailedWarning: Estimator fit failed. The score on this train-test partition for these parameters will be set to nan. Details: \nValueError: Invalid value for max_features. Allowed string values are 'auto', 'sqrt' or 'log2'.\n\n  FitFailedWarning)\nC:\\ProgramData\\Anaconda3\\lib\\site-packages\\sklearn\\model_selection\\_validation.py:536: FitFailedWarning: Estimator fit failed. The score on this train-test partition for these parameters will be set to nan. Details: \nValueError: Invalid value for max_features. Allowed string values are 'auto', 'sqrt' or 'log2'.\n\n  FitFailedWarning)\nC:\\ProgramData\\Anaconda3\\lib\\site-packages\\sklearn\\model_selection\\_validation.py:536: FitFailedWarning: Estimator fit failed. The score on this train-test partition for these parameters will be set to nan. Details: \nValueError: Invalid value for max_features. Allowed string values are 'auto', 'sqrt' or 'log2'.\n\n  FitFailedWarning)\nC:\\ProgramData\\Anaconda3\\lib\\site-packages\\sklearn\\model_selection\\_validation.py:536: FitFailedWarning: Estimator fit failed. The score on this train-test partition for these parameters will be set to nan. Details: \nValueError: Invalid value for max_features. Allowed string values are 'auto', 'sqrt' or 'log2'.\n\n  FitFailedWarning)\nC:\\ProgramData\\Anaconda3\\lib\\site-packages\\sklearn\\model_selection\\_validation.py:536: FitFailedWarning: Estimator fit failed. The score on this train-test partition for these parameters will be set to nan. Details: \nValueError: Invalid value for max_features. Allowed string values are 'auto', 'sqrt' or 'log2'.\n\n  FitFailedWarning)\n"
    },
    {
     "data": {
      "text/plain": "RandomizedSearchCV(cv=5, error_score=nan,\n                   estimator=DecisionTreeClassifier(ccp_alpha=0.0,\n                                                    class_weight=None,\n                                                    criterion='gini',\n                                                    max_depth=None,\n                                                    max_features=None,\n                                                    max_leaf_nodes=None,\n                                                    min_impurity_decrease=0.0,\n                                                    min_impurity_split=None,\n                                                    min_samples_leaf=1,\n                                                    min_samples_split=2,\n                                                    min_weight_fraction_leaf=0.0,\n                                                    presort='deprecated',\n                                                    random_state=None,\n                                                    splitter='best'),\n                   iid='deprecated', n_iter=10, n_jobs=None,\n                   param_distributions={'criterion': ['gini', 'entropy'],\n                                        'max_features': ['int', 'float', 'auto',\n                                                         'sqrt', 'log2'],\n                                        'splitter': ['best', 'random']},\n                   pre_dispatch='2*n_jobs', random_state=None, refit=True,\n                   return_train_score=False, scoring=None, verbose=0)"
     },
     "execution_count": 80,
     "metadata": {},
     "output_type": "execute_result"
    }
   ],
   "source": [
    "dtcRS.fit(xtr,ytr)"
   ]
  },
  {
   "cell_type": "code",
   "execution_count": 81,
   "metadata": {},
   "outputs": [
    {
     "data": {
      "text/plain": "{'splitter': 'best', 'max_features': 'log2', 'criterion': 'entropy'}"
     },
     "execution_count": 81,
     "metadata": {},
     "output_type": "execute_result"
    }
   ],
   "source": [
    "dtcRS.best_params_"
   ]
  },
  {
   "cell_type": "code",
   "execution_count": 82,
   "metadata": {},
   "outputs": [
    {
     "data": {
      "text/plain": "DecisionTreeClassifier(ccp_alpha=0.0, class_weight=None, criterion='entropy',\n                       max_depth=None, max_features='log2', max_leaf_nodes=None,\n                       min_impurity_decrease=0.0, min_impurity_split=None,\n                       min_samples_leaf=1, min_samples_split=2,\n                       min_weight_fraction_leaf=0.0, presort='deprecated',\n                       random_state=None, splitter='best')"
     },
     "execution_count": 82,
     "metadata": {},
     "output_type": "execute_result"
    }
   ],
   "source": [
    "dtcNew = DecisionTreeClassifier(splitter= 'best', max_features= 'log2', criterion= 'entropy')\n",
    "dtcNew.fit(xtr,ytr)"
   ]
  },
  {
   "cell_type": "code",
   "execution_count": 85,
   "metadata": {},
   "outputs": [
    {
     "data": {
      "text/plain": "0.9981378026070763"
     },
     "execution_count": 85,
     "metadata": {},
     "output_type": "execute_result"
    }
   ],
   "source": [
    "dtcScore = dtcNew.score(xts,yts)\n",
    "dtcScore"
   ]
  },
  {
   "cell_type": "markdown",
   "execution_count": null,
   "metadata": {},
   "outputs": [],
   "source": [
    "### Hyperparameter KNN"
   ]
  },
  {
   "cell_type": "code",
   "execution_count": 103,
   "metadata": {},
   "outputs": [
    {
     "data": {
      "text/plain": "{'n_neighbors': [5,\n  11,\n  15,\n  21,\n  25,\n  31,\n  35,\n  41,\n  45,\n  51,\n  55,\n  61,\n  65,\n  71,\n  75,\n  81,\n  85,\n  87,\n  95],\n 'algorithm': ['auto', 'ball_tree', 'kd_tree', 'brute']}"
     },
     "execution_count": 103,
     "metadata": {},
     "output_type": "execute_result"
    }
   ],
   "source": [
    "#parameter KNN\n",
    "n_neighbors = [5,11,15,21,25,31,35,41,45,51,55,61,65,71,75,81,85,87,95]\n",
    "algorithm = ['auto','ball_tree','kd_tree','brute']\n",
    "param = {\n",
    "    'n_neighbors': n_neighbors, 'algorithm': algorithm\n",
    "    }\n",
    "param"
   ]
  },
  {
   "cell_type": "code",
   "execution_count": 104,
   "metadata": {},
   "outputs": [
    {
     "data": {
      "text/plain": "RandomizedSearchCV(cv=5, error_score=nan,\n                   estimator=KNeighborsClassifier(algorithm='auto',\n                                                  leaf_size=30,\n                                                  metric='minkowski',\n                                                  metric_params=None,\n                                                  n_jobs=None, n_neighbors=5,\n                                                  p=2, weights='uniform'),\n                   iid='deprecated', n_iter=10, n_jobs=None,\n                   param_distributions={'algorithm': ['auto', 'ball_tree',\n                                                      'kd_tree', 'brute'],\n                                        'n_neighbors': [5, 11, 15, 21, 25, 31,\n                                                        35, 41, 45, 51, 55, 61,\n                                                        65, 71, 75, 81, 85, 87,\n                                                        95]},\n                   pre_dispatch='2*n_jobs', random_state=None, refit=True,\n                   return_train_score=False, scoring=None, verbose=0)"
     },
     "execution_count": 104,
     "metadata": {},
     "output_type": "execute_result"
    }
   ],
   "source": [
    "knc = KNeighborsClassifier()\n",
    "kncRS = RandomizedSearchCV(estimator=knc, param_distributions=param, cv=5, n_iter=10)\n",
    "kncRS"
   ]
  },
  {
   "cell_type": "code",
   "execution_count": 105,
   "metadata": {},
   "outputs": [
    {
     "data": {
      "text/plain": "RandomizedSearchCV(cv=5, error_score=nan,\n                   estimator=KNeighborsClassifier(algorithm='auto',\n                                                  leaf_size=30,\n                                                  metric='minkowski',\n                                                  metric_params=None,\n                                                  n_jobs=None, n_neighbors=5,\n                                                  p=2, weights='uniform'),\n                   iid='deprecated', n_iter=10, n_jobs=None,\n                   param_distributions={'algorithm': ['auto', 'ball_tree',\n                                                      'kd_tree', 'brute'],\n                                        'n_neighbors': [5, 11, 15, 21, 25, 31,\n                                                        35, 41, 45, 51, 55, 61,\n                                                        65, 71, 75, 81, 85, 87,\n                                                        95]},\n                   pre_dispatch='2*n_jobs', random_state=None, refit=True,\n                   return_train_score=False, scoring=None, verbose=0)"
     },
     "execution_count": 105,
     "metadata": {},
     "output_type": "execute_result"
    }
   ],
   "source": [
    "kncRS.fit(xtr,ytr)"
   ]
  },
  {
   "cell_type": "code",
   "execution_count": 106,
   "metadata": {},
   "outputs": [
    {
     "data": {
      "text/plain": "{'n_neighbors': 5, 'algorithm': 'auto'}"
     },
     "execution_count": 106,
     "metadata": {},
     "output_type": "execute_result"
    }
   ],
   "source": [
    "kncRS.best_params_"
   ]
  },
  {
   "cell_type": "code",
   "execution_count": 107,
   "metadata": {},
   "outputs": [
    {
     "data": {
      "text/plain": "KNeighborsClassifier(algorithm='auto', leaf_size=30, metric='minkowski',\n                     metric_params=None, n_jobs=None, n_neighbors=5, p=2,\n                     weights='uniform')"
     },
     "execution_count": 107,
     "metadata": {},
     "output_type": "execute_result"
    }
   ],
   "source": [
    "kncNew = KNeighborsClassifier(n_neighbors=5,algorithm='auto')\n",
    "kncNew.fit(xtr,ytr)"
   ]
  },
  {
   "cell_type": "code",
   "execution_count": 111,
   "metadata": {},
   "outputs": [
    {
     "data": {
      "text/plain": "0.9888268156424581"
     },
     "execution_count": 111,
     "metadata": {},
     "output_type": "execute_result"
    }
   ],
   "source": [
    "kncScore = kncNew.score(xts,yts)\n",
    "kncScore"
   ]
  },
  {
   "cell_type": "markdown",
   "execution_count": null,
   "metadata": {},
   "outputs": [],
   "source": [
    "### Predict"
   ]
  },
  {
   "cell_type": "code",
   "execution_count": 120,
   "metadata": {},
   "outputs": [],
   "source": [
    "predLR = lrNew.predict(xts)\n",
    "predDTC = dtcNew.predict(xts)\n",
    "predKNN = kncNew.predict(xts)"
   ]
  },
  {
   "cell_type": "code",
   "execution_count": 127,
   "metadata": {},
   "outputs": [
    {
     "name": "stdout",
     "output_type": "stream",
     "text": "(1611, 1)\n(1611, 1)\n(1611, 1)\n(1611, 1)\n"
    }
   ],
   "source": [
    "ypLR = pd.DataFrame(predLR)\n",
    "ypDTC = pd.DataFrame(predDTC)\n",
    "ypKNN = pd.DataFrame(predKNN)\n",
    "ytest = pd.DataFrame(yts)\n",
    "print(ypLR.shape)\n",
    "print(ypDTC.shape)\n",
    "print(ypKNN.shape)\n",
    "print(ytest.shape)"
   ]
  },
  {
   "cell_type": "markdown",
   "execution_count": null,
   "metadata": {},
   "outputs": [],
   "source": [
    "### Evaluation Metrics"
   ]
  },
  {
   "cell_type": "code",
   "execution_count": 115,
   "metadata": {},
   "outputs": [
    {
     "name": "stdout",
     "output_type": "stream",
     "text": "Logistic Regression Score: 0.9813780260707635\nDecision Tree Score: 0.9981378026070763\nKNN Score: 0.9888268156424581\n"
    }
   ],
   "source": [
    "print(f'Logistic Regression Score: {lrScore}')\n",
    "print(f'Decision Tree Score: {dtcScore}')\n",
    "print(f'KNN Score: {kncScore}')"
   ]
  },
  {
   "cell_type": "code",
   "execution_count": 130,
   "metadata": {},
   "outputs": [
    {
     "name": "stdout",
     "output_type": "stream",
     "text": "BAS Logistic Regression: 0.72\nBAS Decision Tree: 0.98\nBAS KNN: 0.82\n"
    }
   ],
   "source": [
    "print(f\"BAS Logistic Regression: {round(balanced_accuracy_score(ytest, ypLR),2)}\")\n",
    "print(f\"BAS Decision Tree: {round(balanced_accuracy_score(ytest, ypDTC),2)}\")\n",
    "print(f\"BAS KNN: {round(balanced_accuracy_score(ytest, ypKNN),2)}\")"
   ]
  },
  {
   "cell_type": "code",
   "execution_count": 133,
   "metadata": {},
   "outputs": [
    {
     "name": "stdout",
     "output_type": "stream",
     "text": "Precision Score Logistic Regression (+): 0.8\nPrecision Score Decision Tree (+): 0.9772727272727273\nPrecision Score KNN (+): 0.9354838709677419\n"
    }
   ],
   "source": [
    "print(f\"Precision Score Logistic Regression (+): {precision_score(ytest,ypLR)}\")\n",
    "print(f\"Precision Score Decision Tree (+): {precision_score(ytest,ypDTC)}\")\n",
    "print(f\"Precision Score KNN (+): {precision_score(ytest,ypKNN)}\")"
   ]
  },
  {
   "cell_type": "code",
   "execution_count": 135,
   "metadata": {},
   "outputs": [
    {
     "name": "stdout",
     "output_type": "stream",
     "text": "Recall Logistic Regression (+): 0.4444444444444444\nRecall Logistic Decision Tree (+): 0.9555555555555556\nRecall Logistic KNN (+): 0.6444444444444445\n"
    }
   ],
   "source": [
    "print(f\"Recall Logistic Regression (+): {recall_score(ytest,ypLR)}\")\n",
    "print(f\"Recall Logistic Decision Tree (+): {recall_score(ytest,ypDTC)}\")\n",
    "print(f\"Recall Logistic KNN (+): {recall_score(ytest,ypKNN)}\")"
   ]
  },
  {
   "cell_type": "code",
   "execution_count": 137,
   "metadata": {},
   "outputs": [
    {
     "name": "stdout",
     "output_type": "stream",
     "text": "F1 Score Logistic Regression (+): 0.5714285714285714\nF1 Score Logistic Decision Tree (+): 0.9662921348314608\nF1 Score Logistic KNN (+): 0.763157894736842\n"
    }
   ],
   "source": [
    "print(f\"F1 Score Logistic Regression (+): {f1_score(ytest, ypLR)}\")\n",
    "print(f\"F1 Score Logistic Decision Tree (+): {f1_score(ytest, ypDTC)}\")\n",
    "print(f\"F1 Score Logistic KNN (+): {f1_score(ytest, ypKNN)}\")"
   ]
  },
  {
   "cell_type": "code",
   "execution_count": 140,
   "metadata": {},
   "outputs": [
    {
     "name": "stdout",
     "output_type": "stream",
     "text": "ROC AUC Score Logistic Regression: 0.72\nROC AUC Score Decision Tree: 0.98\nROC AUC Score KNN: 0.82\n"
    }
   ],
   "source": [
    "print(f'ROC AUC Score Logistic Regression: {round(roc_auc_score(ytest,ypLR),2)}')\n",
    "print(f'ROC AUC Score Decision Tree: {round(roc_auc_score(ytest,ypDTC),2)}')\n",
    "print(f'ROC AUC Score KNN: {round(roc_auc_score(ytest,ypKNN),2)}')"
   ]
  },
  {
   "cell_type": "markdown",
   "execution_count": null,
   "metadata": {},
   "outputs": [],
   "source": [
    "### DARI 3 MODEL TERSEBUT, SETELAH DIANALISA MELALUI BEBERAPA EVALUATION METRICS, METODE DECISION TREE CLASSIFIER UNGGUL DISELURUH NILAI EVALUATION METRICS. MAKA DAPAT DISIMPULKAN BAHWA MODEL TERBAIK ADALAH DECISION TREE CLASSIFIER."
   ]
  },
  {
   "cell_type": "markdown",
   "execution_count": 145,
   "metadata": {},
   "outputs": [],
   "source": [
    "\n",
    "# CLASSIFICATION IBL PLAYERS"
   ]
  },
  {
   "cell_type": "code",
   "execution_count": 152,
   "metadata": {},
   "outputs": [
    {
     "data": {
      "text/html": "<div>\n<style scoped>\n    .dataframe tbody tr th:only-of-type {\n        vertical-align: middle;\n    }\n\n    .dataframe tbody tr th {\n        vertical-align: top;\n    }\n\n    .dataframe thead th {\n        text-align: right;\n    }\n</style>\n<table border=\"1\" class=\"dataframe\">\n  <thead>\n    <tr style=\"text-align: right;\">\n      <th></th>\n      <th>Name</th>\n      <th>Club</th>\n      <th>Country</th>\n      <th>Age</th>\n      <th>Height</th>\n      <th>Weight</th>\n      <th>Pts</th>\n      <th>Reb</th>\n    </tr>\n  </thead>\n  <tbody>\n    <tr>\n      <th>0</th>\n      <td>Andakara Prastawa Dyaksa</td>\n      <td>Pelita Jaya Bakrie</td>\n      <td>Indonesia</td>\n      <td>24</td>\n      <td>190</td>\n      <td>90</td>\n      <td>7</td>\n      <td>6</td>\n    </tr>\n    <tr>\n      <th>1</th>\n      <td>Reggie Mononimbar</td>\n      <td>Pelita Jaya Bakrie</td>\n      <td>Indonesia</td>\n      <td>21</td>\n      <td>185</td>\n      <td>86</td>\n      <td>6</td>\n      <td>3</td>\n    </tr>\n    <tr>\n      <th>2</th>\n      <td>Hardianus Lakudu</td>\n      <td>Satria Muda Pertamina Jakarta</td>\n      <td>Indonesia</td>\n      <td>23</td>\n      <td>178</td>\n      <td>83</td>\n      <td>10</td>\n      <td>3</td>\n    </tr>\n    <tr>\n      <th>3</th>\n      <td>Kevin Yonas Sitorus</td>\n      <td>Satria Muda Pertamina Jakarta</td>\n      <td>Indonesia</td>\n      <td>26</td>\n      <td>185</td>\n      <td>75</td>\n      <td>11</td>\n      <td>4</td>\n    </tr>\n    <tr>\n      <th>4</th>\n      <td>Arki Dikania Wisnu</td>\n      <td>Satria Muda Pertamina Jakarta</td>\n      <td>Indonesia</td>\n      <td>20</td>\n      <td>183</td>\n      <td>80</td>\n      <td>5</td>\n      <td>2</td>\n    </tr>\n    <tr>\n      <th>5</th>\n      <td>Laurentius Steven Oei</td>\n      <td>Satria Muda Pertamina Jakarta</td>\n      <td>Indonesia</td>\n      <td>21</td>\n      <td>191</td>\n      <td>85</td>\n      <td>4</td>\n      <td>10</td>\n    </tr>\n    <tr>\n      <th>6</th>\n      <td>Mei Joni</td>\n      <td>Stapac</td>\n      <td>Indonesia</td>\n      <td>25</td>\n      <td>188</td>\n      <td>90</td>\n      <td>7</td>\n      <td>5</td>\n    </tr>\n    <tr>\n      <th>7</th>\n      <td>Vincent Rivaldi Kosasih</td>\n      <td>Stapac</td>\n      <td>Indonesia</td>\n      <td>23</td>\n      <td>179</td>\n      <td>87</td>\n      <td>1</td>\n      <td>2</td>\n    </tr>\n    <tr>\n      <th>8</th>\n      <td>Hardian Wicaksono</td>\n      <td>Pacific Caesar Surabaya</td>\n      <td>Indonesia</td>\n      <td>21</td>\n      <td>177</td>\n      <td>80</td>\n      <td>9</td>\n      <td>8</td>\n    </tr>\n    <tr>\n      <th>9</th>\n      <td>Brandon Jawato</td>\n      <td>Louvre Surabaya</td>\n      <td>Indonesia</td>\n      <td>24</td>\n      <td>182</td>\n      <td>85</td>\n      <td>6</td>\n      <td>5</td>\n    </tr>\n  </tbody>\n</table>\n</div>",
      "text/plain": "                       Name                           Club     Country  Age  \\\n0  Andakara Prastawa Dyaksa             Pelita Jaya Bakrie   Indonesia   24   \n1         Reggie Mononimbar             Pelita Jaya Bakrie   Indonesia   21   \n2          Hardianus Lakudu  Satria Muda Pertamina Jakarta   Indonesia   23   \n3       Kevin Yonas Sitorus  Satria Muda Pertamina Jakarta   Indonesia   26   \n4        Arki Dikania Wisnu  Satria Muda Pertamina Jakarta   Indonesia   20   \n5     Laurentius Steven Oei  Satria Muda Pertamina Jakarta   Indonesia   21   \n6                  Mei Joni                         Stapac   Indonesia   25   \n7   Vincent Rivaldi Kosasih                         Stapac   Indonesia   23   \n8         Hardian Wicaksono        Pacific Caesar Surabaya   Indonesia   21   \n9            Brandon Jawato                Louvre Surabaya   Indonesia   24   \n\n   Height  Weight  Pts  Reb  \n0     190      90    7    6  \n1     185      86    6    3  \n2     178      83   10    3  \n3     185      75   11    4  \n4     183      80    5    2  \n5     191      85    4   10  \n6     188      90    7    5  \n7     179      87    1    2  \n8     177      80    9    8  \n9     182      85    6    5  "
     },
     "execution_count": 152,
     "metadata": {},
     "output_type": "execute_result"
    }
   ],
   "source": [
    "dfIBL = pd.read_excel('indo_players.xlsx')\n",
    "dfIBL = dfIBL.rename(columns={\"Avg Points\":\"Pts\",\"Avg Rebounds\":\"Reb\"})\n",
    "dfIBL"
   ]
  },
  {
   "cell_type": "code",
   "execution_count": 155,
   "metadata": {},
   "outputs": [
    {
     "data": {
      "text/html": "<div>\n<style scoped>\n    .dataframe tbody tr th:only-of-type {\n        vertical-align: middle;\n    }\n\n    .dataframe tbody tr th {\n        vertical-align: top;\n    }\n\n    .dataframe thead th {\n        text-align: right;\n    }\n</style>\n<table border=\"1\" class=\"dataframe\">\n  <thead>\n    <tr style=\"text-align: right;\">\n      <th></th>\n      <th>Name</th>\n      <th>Club</th>\n      <th>Country</th>\n      <th>Age</th>\n      <th>Height</th>\n      <th>Weight</th>\n      <th>Pts</th>\n      <th>Reb</th>\n    </tr>\n  </thead>\n  <tbody>\n    <tr>\n      <th>0</th>\n      <td>Andakara Prastawa Dyaksa</td>\n      <td>Pelita Jaya Bakrie</td>\n      <td>Indonesia</td>\n      <td>24</td>\n      <td>190</td>\n      <td>90</td>\n      <td>7</td>\n      <td>6</td>\n    </tr>\n    <tr>\n      <th>1</th>\n      <td>Reggie Mononimbar</td>\n      <td>Pelita Jaya Bakrie</td>\n      <td>Indonesia</td>\n      <td>21</td>\n      <td>185</td>\n      <td>86</td>\n      <td>6</td>\n      <td>3</td>\n    </tr>\n    <tr>\n      <th>6</th>\n      <td>Mei Joni</td>\n      <td>Stapac</td>\n      <td>Indonesia</td>\n      <td>25</td>\n      <td>188</td>\n      <td>90</td>\n      <td>7</td>\n      <td>5</td>\n    </tr>\n    <tr>\n      <th>9</th>\n      <td>Brandon Jawato</td>\n      <td>Louvre Surabaya</td>\n      <td>Indonesia</td>\n      <td>24</td>\n      <td>182</td>\n      <td>85</td>\n      <td>6</td>\n      <td>5</td>\n    </tr>\n  </tbody>\n</table>\n</div>",
      "text/plain": "                       Name                Club     Country  Age  Height  \\\n0  Andakara Prastawa Dyaksa  Pelita Jaya Bakrie   Indonesia   24     190   \n1         Reggie Mononimbar  Pelita Jaya Bakrie   Indonesia   21     185   \n6                  Mei Joni              Stapac   Indonesia   25     188   \n9            Brandon Jawato     Louvre Surabaya   Indonesia   24     182   \n\n   Weight  Pts  Reb  \n0      90    7    6  \n1      86    6    3  \n6      90    7    5  \n9      85    6    5  "
     },
     "execution_count": 155,
     "metadata": {},
     "output_type": "execute_result"
    }
   ],
   "source": [
    "df_rekom = dfIBL[(dfIBL['Age']<=25)&(dfIBL['Height']>=180)&(dfIBL['Weight']<=90)&(dfIBL['Pts']>=6)&(dfIBL['Reb']>=3)]\n",
    "ind_rekom = df_rekom.index.tolist() #index yang masuk kriteria\n",
    "df_rekom #Ada 191 Pemain Target"
   ]
  },
  {
   "cell_type": "code",
   "execution_count": 157,
   "metadata": {},
   "outputs": [
    {
     "data": {
      "text/html": "<div>\n<style scoped>\n    .dataframe tbody tr th:only-of-type {\n        vertical-align: middle;\n    }\n\n    .dataframe tbody tr th {\n        vertical-align: top;\n    }\n\n    .dataframe thead th {\n        text-align: right;\n    }\n</style>\n<table border=\"1\" class=\"dataframe\">\n  <thead>\n    <tr style=\"text-align: right;\">\n      <th></th>\n      <th>Name</th>\n      <th>Club</th>\n      <th>Country</th>\n      <th>Age</th>\n      <th>Height</th>\n      <th>Weight</th>\n      <th>Pts</th>\n      <th>Reb</th>\n      <th>Status</th>\n    </tr>\n  </thead>\n  <tbody>\n    <tr>\n      <th>0</th>\n      <td>Andakara Prastawa Dyaksa</td>\n      <td>Pelita Jaya Bakrie</td>\n      <td>Indonesia</td>\n      <td>24</td>\n      <td>190</td>\n      <td>90</td>\n      <td>7</td>\n      <td>6</td>\n      <td>Target</td>\n    </tr>\n    <tr>\n      <th>1</th>\n      <td>Reggie Mononimbar</td>\n      <td>Pelita Jaya Bakrie</td>\n      <td>Indonesia</td>\n      <td>21</td>\n      <td>185</td>\n      <td>86</td>\n      <td>6</td>\n      <td>3</td>\n      <td>Target</td>\n    </tr>\n    <tr>\n      <th>2</th>\n      <td>Hardianus Lakudu</td>\n      <td>Satria Muda Pertamina Jakarta</td>\n      <td>Indonesia</td>\n      <td>23</td>\n      <td>178</td>\n      <td>83</td>\n      <td>10</td>\n      <td>3</td>\n      <td>Non-Target</td>\n    </tr>\n    <tr>\n      <th>3</th>\n      <td>Kevin Yonas Sitorus</td>\n      <td>Satria Muda Pertamina Jakarta</td>\n      <td>Indonesia</td>\n      <td>26</td>\n      <td>185</td>\n      <td>75</td>\n      <td>11</td>\n      <td>4</td>\n      <td>Non-Target</td>\n    </tr>\n    <tr>\n      <th>4</th>\n      <td>Arki Dikania Wisnu</td>\n      <td>Satria Muda Pertamina Jakarta</td>\n      <td>Indonesia</td>\n      <td>20</td>\n      <td>183</td>\n      <td>80</td>\n      <td>5</td>\n      <td>2</td>\n      <td>Non-Target</td>\n    </tr>\n    <tr>\n      <th>5</th>\n      <td>Laurentius Steven Oei</td>\n      <td>Satria Muda Pertamina Jakarta</td>\n      <td>Indonesia</td>\n      <td>21</td>\n      <td>191</td>\n      <td>85</td>\n      <td>4</td>\n      <td>10</td>\n      <td>Non-Target</td>\n    </tr>\n    <tr>\n      <th>6</th>\n      <td>Mei Joni</td>\n      <td>Stapac</td>\n      <td>Indonesia</td>\n      <td>25</td>\n      <td>188</td>\n      <td>90</td>\n      <td>7</td>\n      <td>5</td>\n      <td>Target</td>\n    </tr>\n    <tr>\n      <th>7</th>\n      <td>Vincent Rivaldi Kosasih</td>\n      <td>Stapac</td>\n      <td>Indonesia</td>\n      <td>23</td>\n      <td>179</td>\n      <td>87</td>\n      <td>1</td>\n      <td>2</td>\n      <td>Non-Target</td>\n    </tr>\n    <tr>\n      <th>8</th>\n      <td>Hardian Wicaksono</td>\n      <td>Pacific Caesar Surabaya</td>\n      <td>Indonesia</td>\n      <td>21</td>\n      <td>177</td>\n      <td>80</td>\n      <td>9</td>\n      <td>8</td>\n      <td>Non-Target</td>\n    </tr>\n    <tr>\n      <th>9</th>\n      <td>Brandon Jawato</td>\n      <td>Louvre Surabaya</td>\n      <td>Indonesia</td>\n      <td>24</td>\n      <td>182</td>\n      <td>85</td>\n      <td>6</td>\n      <td>5</td>\n      <td>Target</td>\n    </tr>\n  </tbody>\n</table>\n</div>",
      "text/plain": "                       Name                           Club     Country  Age  \\\n0  Andakara Prastawa Dyaksa             Pelita Jaya Bakrie   Indonesia   24   \n1         Reggie Mononimbar             Pelita Jaya Bakrie   Indonesia   21   \n2          Hardianus Lakudu  Satria Muda Pertamina Jakarta   Indonesia   23   \n3       Kevin Yonas Sitorus  Satria Muda Pertamina Jakarta   Indonesia   26   \n4        Arki Dikania Wisnu  Satria Muda Pertamina Jakarta   Indonesia   20   \n5     Laurentius Steven Oei  Satria Muda Pertamina Jakarta   Indonesia   21   \n6                  Mei Joni                         Stapac   Indonesia   25   \n7   Vincent Rivaldi Kosasih                         Stapac   Indonesia   23   \n8         Hardian Wicaksono        Pacific Caesar Surabaya   Indonesia   21   \n9            Brandon Jawato                Louvre Surabaya   Indonesia   24   \n\n   Height  Weight  Pts  Reb      Status  \n0     190      90    7    6      Target  \n1     185      86    6    3      Target  \n2     178      83   10    3  Non-Target  \n3     185      75   11    4  Non-Target  \n4     183      80    5    2  Non-Target  \n5     191      85    4   10  Non-Target  \n6     188      90    7    5      Target  \n7     179      87    1    2  Non-Target  \n8     177      80    9    8  Non-Target  \n9     182      85    6    5      Target  "
     },
     "execution_count": 157,
     "metadata": {},
     "output_type": "execute_result"
    }
   ],
   "source": [
    "dfIBL['Status'] = ['Target' if i in ind_rekom else 'Non-Target' for i in range(len(dfIBL.index))]\n",
    "dfIBL"
   ]
  },
  {
   "cell_type": "code",
   "execution_count": 191,
   "metadata": {},
   "outputs": [
    {
     "data": {
      "text/html": "<div>\n<style scoped>\n    .dataframe tbody tr th:only-of-type {\n        vertical-align: middle;\n    }\n\n    .dataframe tbody tr th {\n        vertical-align: top;\n    }\n\n    .dataframe thead th {\n        text-align: right;\n    }\n</style>\n<table border=\"1\" class=\"dataframe\">\n  <thead>\n    <tr style=\"text-align: right;\">\n      <th></th>\n      <th>Name</th>\n      <th>Club</th>\n      <th>Country</th>\n      <th>Age</th>\n      <th>Height</th>\n      <th>Weight</th>\n      <th>Pts</th>\n      <th>Reb</th>\n      <th>Status_En</th>\n      <th>Status</th>\n    </tr>\n  </thead>\n  <tbody>\n    <tr>\n      <th>0</th>\n      <td>Andakara Prastawa Dyaksa</td>\n      <td>Pelita Jaya Bakrie</td>\n      <td>Indonesia</td>\n      <td>24</td>\n      <td>190</td>\n      <td>90</td>\n      <td>7</td>\n      <td>6</td>\n      <td>1</td>\n      <td>Target</td>\n    </tr>\n    <tr>\n      <th>1</th>\n      <td>Reggie Mononimbar</td>\n      <td>Pelita Jaya Bakrie</td>\n      <td>Indonesia</td>\n      <td>21</td>\n      <td>185</td>\n      <td>86</td>\n      <td>6</td>\n      <td>3</td>\n      <td>1</td>\n      <td>Target</td>\n    </tr>\n    <tr>\n      <th>2</th>\n      <td>Hardianus Lakudu</td>\n      <td>Satria Muda Pertamina Jakarta</td>\n      <td>Indonesia</td>\n      <td>23</td>\n      <td>178</td>\n      <td>83</td>\n      <td>10</td>\n      <td>3</td>\n      <td>0</td>\n      <td>Non-Target</td>\n    </tr>\n    <tr>\n      <th>3</th>\n      <td>Kevin Yonas Sitorus</td>\n      <td>Satria Muda Pertamina Jakarta</td>\n      <td>Indonesia</td>\n      <td>26</td>\n      <td>185</td>\n      <td>75</td>\n      <td>11</td>\n      <td>4</td>\n      <td>0</td>\n      <td>Non-Target</td>\n    </tr>\n    <tr>\n      <th>4</th>\n      <td>Arki Dikania Wisnu</td>\n      <td>Satria Muda Pertamina Jakarta</td>\n      <td>Indonesia</td>\n      <td>20</td>\n      <td>183</td>\n      <td>80</td>\n      <td>5</td>\n      <td>2</td>\n      <td>0</td>\n      <td>Non-Target</td>\n    </tr>\n    <tr>\n      <th>5</th>\n      <td>Laurentius Steven Oei</td>\n      <td>Satria Muda Pertamina Jakarta</td>\n      <td>Indonesia</td>\n      <td>21</td>\n      <td>191</td>\n      <td>85</td>\n      <td>4</td>\n      <td>10</td>\n      <td>0</td>\n      <td>Non-Target</td>\n    </tr>\n    <tr>\n      <th>6</th>\n      <td>Mei Joni</td>\n      <td>Stapac</td>\n      <td>Indonesia</td>\n      <td>25</td>\n      <td>188</td>\n      <td>90</td>\n      <td>7</td>\n      <td>5</td>\n      <td>1</td>\n      <td>Target</td>\n    </tr>\n    <tr>\n      <th>7</th>\n      <td>Vincent Rivaldi Kosasih</td>\n      <td>Stapac</td>\n      <td>Indonesia</td>\n      <td>23</td>\n      <td>179</td>\n      <td>87</td>\n      <td>1</td>\n      <td>2</td>\n      <td>0</td>\n      <td>Non-Target</td>\n    </tr>\n    <tr>\n      <th>8</th>\n      <td>Hardian Wicaksono</td>\n      <td>Pacific Caesar Surabaya</td>\n      <td>Indonesia</td>\n      <td>21</td>\n      <td>177</td>\n      <td>80</td>\n      <td>9</td>\n      <td>8</td>\n      <td>0</td>\n      <td>Non-Target</td>\n    </tr>\n    <tr>\n      <th>9</th>\n      <td>Brandon Jawato</td>\n      <td>Louvre Surabaya</td>\n      <td>Indonesia</td>\n      <td>24</td>\n      <td>182</td>\n      <td>85</td>\n      <td>6</td>\n      <td>5</td>\n      <td>1</td>\n      <td>Target</td>\n    </tr>\n  </tbody>\n</table>\n</div>",
      "text/plain": "                       Name                           Club     Country  Age  \\\n0  Andakara Prastawa Dyaksa             Pelita Jaya Bakrie   Indonesia   24   \n1         Reggie Mononimbar             Pelita Jaya Bakrie   Indonesia   21   \n2          Hardianus Lakudu  Satria Muda Pertamina Jakarta   Indonesia   23   \n3       Kevin Yonas Sitorus  Satria Muda Pertamina Jakarta   Indonesia   26   \n4        Arki Dikania Wisnu  Satria Muda Pertamina Jakarta   Indonesia   20   \n5     Laurentius Steven Oei  Satria Muda Pertamina Jakarta   Indonesia   21   \n6                  Mei Joni                         Stapac   Indonesia   25   \n7   Vincent Rivaldi Kosasih                         Stapac   Indonesia   23   \n8         Hardian Wicaksono        Pacific Caesar Surabaya   Indonesia   21   \n9            Brandon Jawato                Louvre Surabaya   Indonesia   24   \n\n   Height  Weight  Pts  Reb  Status_En      Status  \n0     190      90    7    6          1      Target  \n1     185      86    6    3          1      Target  \n2     178      83   10    3          0  Non-Target  \n3     185      75   11    4          0  Non-Target  \n4     183      80    5    2          0  Non-Target  \n5     191      85    4   10          0  Non-Target  \n6     188      90    7    5          1      Target  \n7     179      87    1    2          0  Non-Target  \n8     177      80    9    8          0  Non-Target  \n9     182      85    6    5          1      Target  "
     },
     "execution_count": 191,
     "metadata": {},
     "output_type": "execute_result"
    }
   ],
   "source": [
    "### Labeling Target\n",
    "le = LabelEncoder()\n",
    "df_IBL = dfIBL #mau di drop kolom statusnya\n",
    "df_IBL['Status_En'] = le.fit_transform(df_IBL['Status']) ####0 bukan target, 1 target\n",
    "df_IBL = df_IBL.drop([\"Status_en\",\"Status\"], axis=1)\n",
    "df_IBL['Status'] = dfIBL['Status']\n",
    "df_IBL"
   ]
  },
  {
   "cell_type": "markdown",
   "execution_count": null,
   "metadata": {},
   "outputs": [],
   "source": [
    "### Standardization"
   ]
  },
  {
   "cell_type": "code",
   "execution_count": 178,
   "metadata": {},
   "outputs": [
    {
     "data": {
      "text/plain": "array([[ 0.63599873,  1.32911403,  1.31632171,  0.14285714,  0.48349378],\n       [-0.95399809,  0.25724788,  0.42390021, -0.21428571, -0.72524067],\n       [ 0.10599979, -1.24336474, -0.24541591,  1.21428571, -0.72524067],\n       [ 1.69599661,  0.25724788, -2.0302589 ,  1.57142857, -0.32232919],\n       [-1.48399703, -0.17149859, -0.91473203, -0.57142857, -1.12815215],\n       [-0.95399809,  1.54348727,  0.20079484, -0.92857143,  2.09513971],\n       [ 1.16599767,  0.90036757,  1.31632171,  0.14285714,  0.0805823 ],\n       [ 0.10599979, -1.02899151,  0.64700558, -2.        , -1.12815215],\n       [-0.95399809, -1.45773797, -0.91473203,  0.85714286,  1.28931674],\n       [ 0.63599873, -0.38587182,  0.20079484, -0.21428571,  0.0805823 ]])"
     },
     "execution_count": 178,
     "metadata": {},
     "output_type": "execute_result"
    }
   ],
   "source": [
    "std = ss.fit_transform(df_IBL.loc[:,'Age':'Reb'])\n",
    "std"
   ]
  },
  {
   "cell_type": "code",
   "execution_count": 179,
   "metadata": {},
   "outputs": [
    {
     "data": {
      "text/html": "<div>\n<style scoped>\n    .dataframe tbody tr th:only-of-type {\n        vertical-align: middle;\n    }\n\n    .dataframe tbody tr th {\n        vertical-align: top;\n    }\n\n    .dataframe thead th {\n        text-align: right;\n    }\n</style>\n<table border=\"1\" class=\"dataframe\">\n  <thead>\n    <tr style=\"text-align: right;\">\n      <th></th>\n      <th>age</th>\n      <th>height</th>\n      <th>weight</th>\n      <th>pts</th>\n      <th>reb</th>\n    </tr>\n  </thead>\n  <tbody>\n    <tr>\n      <th>0</th>\n      <td>0.635999</td>\n      <td>1.329114</td>\n      <td>1.316322</td>\n      <td>0.142857</td>\n      <td>0.483494</td>\n    </tr>\n    <tr>\n      <th>1</th>\n      <td>-0.953998</td>\n      <td>0.257248</td>\n      <td>0.423900</td>\n      <td>-0.214286</td>\n      <td>-0.725241</td>\n    </tr>\n    <tr>\n      <th>2</th>\n      <td>0.106000</td>\n      <td>-1.243365</td>\n      <td>-0.245416</td>\n      <td>1.214286</td>\n      <td>-0.725241</td>\n    </tr>\n    <tr>\n      <th>3</th>\n      <td>1.695997</td>\n      <td>0.257248</td>\n      <td>-2.030259</td>\n      <td>1.571429</td>\n      <td>-0.322329</td>\n    </tr>\n    <tr>\n      <th>4</th>\n      <td>-1.483997</td>\n      <td>-0.171499</td>\n      <td>-0.914732</td>\n      <td>-0.571429</td>\n      <td>-1.128152</td>\n    </tr>\n    <tr>\n      <th>5</th>\n      <td>-0.953998</td>\n      <td>1.543487</td>\n      <td>0.200795</td>\n      <td>-0.928571</td>\n      <td>2.095140</td>\n    </tr>\n    <tr>\n      <th>6</th>\n      <td>1.165998</td>\n      <td>0.900368</td>\n      <td>1.316322</td>\n      <td>0.142857</td>\n      <td>0.080582</td>\n    </tr>\n    <tr>\n      <th>7</th>\n      <td>0.106000</td>\n      <td>-1.028992</td>\n      <td>0.647006</td>\n      <td>-2.000000</td>\n      <td>-1.128152</td>\n    </tr>\n    <tr>\n      <th>8</th>\n      <td>-0.953998</td>\n      <td>-1.457738</td>\n      <td>-0.914732</td>\n      <td>0.857143</td>\n      <td>1.289317</td>\n    </tr>\n    <tr>\n      <th>9</th>\n      <td>0.635999</td>\n      <td>-0.385872</td>\n      <td>0.200795</td>\n      <td>-0.214286</td>\n      <td>0.080582</td>\n    </tr>\n  </tbody>\n</table>\n</div>",
      "text/plain": "        age    height    weight       pts       reb\n0  0.635999  1.329114  1.316322  0.142857  0.483494\n1 -0.953998  0.257248  0.423900 -0.214286 -0.725241\n2  0.106000 -1.243365 -0.245416  1.214286 -0.725241\n3  1.695997  0.257248 -2.030259  1.571429 -0.322329\n4 -1.483997 -0.171499 -0.914732 -0.571429 -1.128152\n5 -0.953998  1.543487  0.200795 -0.928571  2.095140\n6  1.165998  0.900368  1.316322  0.142857  0.080582\n7  0.106000 -1.028992  0.647006 -2.000000 -1.128152\n8 -0.953998 -1.457738 -0.914732  0.857143  1.289317\n9  0.635999 -0.385872  0.200795 -0.214286  0.080582"
     },
     "execution_count": 179,
     "metadata": {},
     "output_type": "execute_result"
    }
   ],
   "source": [
    "dfStd = pd.DataFrame(std, columns=['age','height','weight','pts','reb'])\n",
    "dfStd"
   ]
  },
  {
   "cell_type": "code",
   "execution_count": 197,
   "metadata": {},
   "outputs": [
    {
     "data": {
      "text/html": "<div>\n<style scoped>\n    .dataframe tbody tr th:only-of-type {\n        vertical-align: middle;\n    }\n\n    .dataframe tbody tr th {\n        vertical-align: top;\n    }\n\n    .dataframe thead th {\n        text-align: right;\n    }\n</style>\n<table border=\"1\" class=\"dataframe\">\n  <thead>\n    <tr style=\"text-align: right;\">\n      <th></th>\n      <th>Name</th>\n      <th>Club</th>\n      <th>age</th>\n      <th>height</th>\n      <th>weight</th>\n      <th>pts</th>\n      <th>reb</th>\n      <th>status_en</th>\n      <th>status</th>\n    </tr>\n  </thead>\n  <tbody>\n    <tr>\n      <th>0</th>\n      <td>Andakara Prastawa Dyaksa</td>\n      <td>Pelita Jaya Bakrie</td>\n      <td>0.635999</td>\n      <td>1.329114</td>\n      <td>1.316322</td>\n      <td>0.142857</td>\n      <td>0.483494</td>\n      <td>1</td>\n      <td>Target</td>\n    </tr>\n    <tr>\n      <th>1</th>\n      <td>Reggie Mononimbar</td>\n      <td>Pelita Jaya Bakrie</td>\n      <td>-0.953998</td>\n      <td>0.257248</td>\n      <td>0.423900</td>\n      <td>-0.214286</td>\n      <td>-0.725241</td>\n      <td>1</td>\n      <td>Target</td>\n    </tr>\n    <tr>\n      <th>2</th>\n      <td>Hardianus Lakudu</td>\n      <td>Satria Muda Pertamina Jakarta</td>\n      <td>0.106000</td>\n      <td>-1.243365</td>\n      <td>-0.245416</td>\n      <td>1.214286</td>\n      <td>-0.725241</td>\n      <td>0</td>\n      <td>Non-Target</td>\n    </tr>\n    <tr>\n      <th>3</th>\n      <td>Kevin Yonas Sitorus</td>\n      <td>Satria Muda Pertamina Jakarta</td>\n      <td>1.695997</td>\n      <td>0.257248</td>\n      <td>-2.030259</td>\n      <td>1.571429</td>\n      <td>-0.322329</td>\n      <td>0</td>\n      <td>Non-Target</td>\n    </tr>\n    <tr>\n      <th>4</th>\n      <td>Arki Dikania Wisnu</td>\n      <td>Satria Muda Pertamina Jakarta</td>\n      <td>-1.483997</td>\n      <td>-0.171499</td>\n      <td>-0.914732</td>\n      <td>-0.571429</td>\n      <td>-1.128152</td>\n      <td>0</td>\n      <td>Non-Target</td>\n    </tr>\n    <tr>\n      <th>5</th>\n      <td>Laurentius Steven Oei</td>\n      <td>Satria Muda Pertamina Jakarta</td>\n      <td>-0.953998</td>\n      <td>1.543487</td>\n      <td>0.200795</td>\n      <td>-0.928571</td>\n      <td>2.095140</td>\n      <td>0</td>\n      <td>Non-Target</td>\n    </tr>\n    <tr>\n      <th>6</th>\n      <td>Mei Joni</td>\n      <td>Stapac</td>\n      <td>1.165998</td>\n      <td>0.900368</td>\n      <td>1.316322</td>\n      <td>0.142857</td>\n      <td>0.080582</td>\n      <td>1</td>\n      <td>Target</td>\n    </tr>\n    <tr>\n      <th>7</th>\n      <td>Vincent Rivaldi Kosasih</td>\n      <td>Stapac</td>\n      <td>0.106000</td>\n      <td>-1.028992</td>\n      <td>0.647006</td>\n      <td>-2.000000</td>\n      <td>-1.128152</td>\n      <td>0</td>\n      <td>Non-Target</td>\n    </tr>\n    <tr>\n      <th>8</th>\n      <td>Hardian Wicaksono</td>\n      <td>Pacific Caesar Surabaya</td>\n      <td>-0.953998</td>\n      <td>-1.457738</td>\n      <td>-0.914732</td>\n      <td>0.857143</td>\n      <td>1.289317</td>\n      <td>0</td>\n      <td>Non-Target</td>\n    </tr>\n    <tr>\n      <th>9</th>\n      <td>Brandon Jawato</td>\n      <td>Louvre Surabaya</td>\n      <td>0.635999</td>\n      <td>-0.385872</td>\n      <td>0.200795</td>\n      <td>-0.214286</td>\n      <td>0.080582</td>\n      <td>1</td>\n      <td>Target</td>\n    </tr>\n  </tbody>\n</table>\n</div>",
      "text/plain": "                       Name                           Club       age  \\\n0  Andakara Prastawa Dyaksa             Pelita Jaya Bakrie  0.635999   \n1         Reggie Mononimbar             Pelita Jaya Bakrie -0.953998   \n2          Hardianus Lakudu  Satria Muda Pertamina Jakarta  0.106000   \n3       Kevin Yonas Sitorus  Satria Muda Pertamina Jakarta  1.695997   \n4        Arki Dikania Wisnu  Satria Muda Pertamina Jakarta -1.483997   \n5     Laurentius Steven Oei  Satria Muda Pertamina Jakarta -0.953998   \n6                  Mei Joni                         Stapac  1.165998   \n7   Vincent Rivaldi Kosasih                         Stapac  0.106000   \n8         Hardian Wicaksono        Pacific Caesar Surabaya -0.953998   \n9            Brandon Jawato                Louvre Surabaya  0.635999   \n\n     height    weight       pts       reb  status_en      status  \n0  1.329114  1.316322  0.142857  0.483494          1      Target  \n1  0.257248  0.423900 -0.214286 -0.725241          1      Target  \n2 -1.243365 -0.245416  1.214286 -0.725241          0  Non-Target  \n3  0.257248 -2.030259  1.571429 -0.322329          0  Non-Target  \n4 -0.171499 -0.914732 -0.571429 -1.128152          0  Non-Target  \n5  1.543487  0.200795 -0.928571  2.095140          0  Non-Target  \n6  0.900368  1.316322  0.142857  0.080582          1      Target  \n7 -1.028992  0.647006 -2.000000 -1.128152          0  Non-Target  \n8 -1.457738 -0.914732  0.857143  1.289317          0  Non-Target  \n9 -0.385872  0.200795 -0.214286  0.080582          1      Target  "
     },
     "execution_count": 197,
     "metadata": {},
     "output_type": "execute_result"
    }
   ],
   "source": [
    "dfList = df_IBL[['Name','Club']]\n",
    "dfList = pd.concat([dfList,dfStd],axis=1)\n",
    "dfList['status_en'] = df_IBL['Status_En']\n",
    "dfList['status'] = df_IBL['Status']\n",
    "dfList"
   ]
  },
  {
   "cell_type": "code",
   "execution_count": 205,
   "metadata": {},
   "outputs": [
    {
     "name": "stdout",
     "output_type": "stream",
     "text": "(10, 5)\n(10,)\n"
    }
   ],
   "source": [
    "x = dfList[['age','height','weight','pts','reb']]\n",
    "y = dfList['status_en']\n",
    "print(x.shape)\n",
    "print(y.shape)"
   ]
  },
  {
   "cell_type": "markdown",
   "execution_count": null,
   "metadata": {},
   "outputs": [],
   "source": [
    "### PREDICT"
   ]
  },
  {
   "cell_type": "code",
   "execution_count": 206,
   "metadata": {},
   "outputs": [
    {
     "data": {
      "text/plain": "DecisionTreeClassifier(ccp_alpha=0.0, class_weight=None, criterion='entropy',\n                       max_depth=None, max_features='log2', max_leaf_nodes=None,\n                       min_impurity_decrease=0.0, min_impurity_split=None,\n                       min_samples_leaf=1, min_samples_split=2,\n                       min_weight_fraction_leaf=0.0, presort='deprecated',\n                       random_state=None, splitter='best')"
     },
     "execution_count": 206,
     "metadata": {},
     "output_type": "execute_result"
    }
   ],
   "source": [
    "dtsFix = DecisionTreeClassifier(splitter= 'best', max_features= 'log2', criterion= 'entropy')\n",
    "dtsFix.fit(x,y)"
   ]
  },
  {
   "cell_type": "code",
   "execution_count": 213,
   "metadata": {},
   "outputs": [
    {
     "data": {
      "text/plain": "array([1, 1, 0, 0, 0, 0, 1, 0, 0, 1])"
     },
     "execution_count": 213,
     "metadata": {},
     "output_type": "execute_result"
    }
   ],
   "source": [
    "dtsPred = dtsFix.predict(x)\n",
    "dtsPred"
   ]
  },
  {
   "cell_type": "code",
   "execution_count": 211,
   "metadata": {},
   "outputs": [
    {
     "data": {
      "text/html": "<div>\n<style scoped>\n    .dataframe tbody tr th:only-of-type {\n        vertical-align: middle;\n    }\n\n    .dataframe tbody tr th {\n        vertical-align: top;\n    }\n\n    .dataframe thead th {\n        text-align: right;\n    }\n</style>\n<table border=\"1\" class=\"dataframe\">\n  <thead>\n    <tr style=\"text-align: right;\">\n      <th></th>\n      <th>Name</th>\n      <th>Club</th>\n      <th>Country</th>\n      <th>Age</th>\n      <th>Height</th>\n      <th>Weight</th>\n      <th>Pts</th>\n      <th>Reb</th>\n      <th>Status</th>\n    </tr>\n  </thead>\n  <tbody>\n    <tr>\n      <th>0</th>\n      <td>Andakara Prastawa Dyaksa</td>\n      <td>Pelita Jaya Bakrie</td>\n      <td>Indonesia</td>\n      <td>24</td>\n      <td>190</td>\n      <td>90</td>\n      <td>7</td>\n      <td>6</td>\n      <td>Target</td>\n    </tr>\n    <tr>\n      <th>1</th>\n      <td>Reggie Mononimbar</td>\n      <td>Pelita Jaya Bakrie</td>\n      <td>Indonesia</td>\n      <td>21</td>\n      <td>185</td>\n      <td>86</td>\n      <td>6</td>\n      <td>3</td>\n      <td>Target</td>\n    </tr>\n    <tr>\n      <th>2</th>\n      <td>Hardianus Lakudu</td>\n      <td>Satria Muda Pertamina Jakarta</td>\n      <td>Indonesia</td>\n      <td>23</td>\n      <td>178</td>\n      <td>83</td>\n      <td>10</td>\n      <td>3</td>\n      <td>Non-Target</td>\n    </tr>\n    <tr>\n      <th>3</th>\n      <td>Kevin Yonas Sitorus</td>\n      <td>Satria Muda Pertamina Jakarta</td>\n      <td>Indonesia</td>\n      <td>26</td>\n      <td>185</td>\n      <td>75</td>\n      <td>11</td>\n      <td>4</td>\n      <td>Non-Target</td>\n    </tr>\n    <tr>\n      <th>4</th>\n      <td>Arki Dikania Wisnu</td>\n      <td>Satria Muda Pertamina Jakarta</td>\n      <td>Indonesia</td>\n      <td>20</td>\n      <td>183</td>\n      <td>80</td>\n      <td>5</td>\n      <td>2</td>\n      <td>Non-Target</td>\n    </tr>\n    <tr>\n      <th>5</th>\n      <td>Laurentius Steven Oei</td>\n      <td>Satria Muda Pertamina Jakarta</td>\n      <td>Indonesia</td>\n      <td>21</td>\n      <td>191</td>\n      <td>85</td>\n      <td>4</td>\n      <td>10</td>\n      <td>Non-Target</td>\n    </tr>\n    <tr>\n      <th>6</th>\n      <td>Mei Joni</td>\n      <td>Stapac</td>\n      <td>Indonesia</td>\n      <td>25</td>\n      <td>188</td>\n      <td>90</td>\n      <td>7</td>\n      <td>5</td>\n      <td>Target</td>\n    </tr>\n    <tr>\n      <th>7</th>\n      <td>Vincent Rivaldi Kosasih</td>\n      <td>Stapac</td>\n      <td>Indonesia</td>\n      <td>23</td>\n      <td>179</td>\n      <td>87</td>\n      <td>1</td>\n      <td>2</td>\n      <td>Non-Target</td>\n    </tr>\n    <tr>\n      <th>8</th>\n      <td>Hardian Wicaksono</td>\n      <td>Pacific Caesar Surabaya</td>\n      <td>Indonesia</td>\n      <td>21</td>\n      <td>177</td>\n      <td>80</td>\n      <td>9</td>\n      <td>8</td>\n      <td>Non-Target</td>\n    </tr>\n    <tr>\n      <th>9</th>\n      <td>Brandon Jawato</td>\n      <td>Louvre Surabaya</td>\n      <td>Indonesia</td>\n      <td>24</td>\n      <td>182</td>\n      <td>85</td>\n      <td>6</td>\n      <td>5</td>\n      <td>Target</td>\n    </tr>\n  </tbody>\n</table>\n</div>",
      "text/plain": "                       Name                           Club     Country  Age  \\\n0  Andakara Prastawa Dyaksa             Pelita Jaya Bakrie   Indonesia   24   \n1         Reggie Mononimbar             Pelita Jaya Bakrie   Indonesia   21   \n2          Hardianus Lakudu  Satria Muda Pertamina Jakarta   Indonesia   23   \n3       Kevin Yonas Sitorus  Satria Muda Pertamina Jakarta   Indonesia   26   \n4        Arki Dikania Wisnu  Satria Muda Pertamina Jakarta   Indonesia   20   \n5     Laurentius Steven Oei  Satria Muda Pertamina Jakarta   Indonesia   21   \n6                  Mei Joni                         Stapac   Indonesia   25   \n7   Vincent Rivaldi Kosasih                         Stapac   Indonesia   23   \n8         Hardian Wicaksono        Pacific Caesar Surabaya   Indonesia   21   \n9            Brandon Jawato                Louvre Surabaya   Indonesia   24   \n\n   Height  Weight  Pts  Reb      Status  \n0     190      90    7    6      Target  \n1     185      86    6    3      Target  \n2     178      83   10    3  Non-Target  \n3     185      75   11    4  Non-Target  \n4     183      80    5    2  Non-Target  \n5     191      85    4   10  Non-Target  \n6     188      90    7    5      Target  \n7     179      87    1    2  Non-Target  \n8     177      80    9    8  Non-Target  \n9     182      85    6    5      Target  "
     },
     "execution_count": 211,
     "metadata": {},
     "output_type": "execute_result"
    }
   ],
   "source": [
    "levels = {0: 'Non-Target', 1: 'Target'}\n",
    "dfPred_IBL = df_IBL\n",
    "dfPred_IBL = df_IBL.drop(\"Status_En\", axis=1)\n",
    "dfPred_IBL"
   ]
  },
  {
   "cell_type": "markdown",
   "execution_count": null,
   "metadata": {},
   "outputs": [],
   "source": [
    "## FINAL RESULT RECOMMENDATION HUNTING\n",
    "### - TARGET -> REKRUT\n",
    "### - NON-TARGET -> TIDAK REKRUT"
   ]
  },
  {
   "cell_type": "code",
   "execution_count": 214,
   "metadata": {},
   "outputs": [
    {
     "data": {
      "text/html": "<div>\n<style scoped>\n    .dataframe tbody tr th:only-of-type {\n        vertical-align: middle;\n    }\n\n    .dataframe tbody tr th {\n        vertical-align: top;\n    }\n\n    .dataframe thead th {\n        text-align: right;\n    }\n</style>\n<table border=\"1\" class=\"dataframe\">\n  <thead>\n    <tr style=\"text-align: right;\">\n      <th></th>\n      <th>Name</th>\n      <th>Club</th>\n      <th>Country</th>\n      <th>Age</th>\n      <th>Height</th>\n      <th>Weight</th>\n      <th>Pts</th>\n      <th>Reb</th>\n      <th>Status</th>\n      <th>Status Predict</th>\n    </tr>\n  </thead>\n  <tbody>\n    <tr>\n      <th>0</th>\n      <td>Andakara Prastawa Dyaksa</td>\n      <td>Pelita Jaya Bakrie</td>\n      <td>Indonesia</td>\n      <td>24</td>\n      <td>190</td>\n      <td>90</td>\n      <td>7</td>\n      <td>6</td>\n      <td>Target</td>\n      <td>Target</td>\n    </tr>\n    <tr>\n      <th>1</th>\n      <td>Reggie Mononimbar</td>\n      <td>Pelita Jaya Bakrie</td>\n      <td>Indonesia</td>\n      <td>21</td>\n      <td>185</td>\n      <td>86</td>\n      <td>6</td>\n      <td>3</td>\n      <td>Target</td>\n      <td>Target</td>\n    </tr>\n    <tr>\n      <th>2</th>\n      <td>Hardianus Lakudu</td>\n      <td>Satria Muda Pertamina Jakarta</td>\n      <td>Indonesia</td>\n      <td>23</td>\n      <td>178</td>\n      <td>83</td>\n      <td>10</td>\n      <td>3</td>\n      <td>Non-Target</td>\n      <td>Non-Target</td>\n    </tr>\n    <tr>\n      <th>3</th>\n      <td>Kevin Yonas Sitorus</td>\n      <td>Satria Muda Pertamina Jakarta</td>\n      <td>Indonesia</td>\n      <td>26</td>\n      <td>185</td>\n      <td>75</td>\n      <td>11</td>\n      <td>4</td>\n      <td>Non-Target</td>\n      <td>Non-Target</td>\n    </tr>\n    <tr>\n      <th>4</th>\n      <td>Arki Dikania Wisnu</td>\n      <td>Satria Muda Pertamina Jakarta</td>\n      <td>Indonesia</td>\n      <td>20</td>\n      <td>183</td>\n      <td>80</td>\n      <td>5</td>\n      <td>2</td>\n      <td>Non-Target</td>\n      <td>Non-Target</td>\n    </tr>\n    <tr>\n      <th>5</th>\n      <td>Laurentius Steven Oei</td>\n      <td>Satria Muda Pertamina Jakarta</td>\n      <td>Indonesia</td>\n      <td>21</td>\n      <td>191</td>\n      <td>85</td>\n      <td>4</td>\n      <td>10</td>\n      <td>Non-Target</td>\n      <td>Non-Target</td>\n    </tr>\n    <tr>\n      <th>6</th>\n      <td>Mei Joni</td>\n      <td>Stapac</td>\n      <td>Indonesia</td>\n      <td>25</td>\n      <td>188</td>\n      <td>90</td>\n      <td>7</td>\n      <td>5</td>\n      <td>Target</td>\n      <td>Target</td>\n    </tr>\n    <tr>\n      <th>7</th>\n      <td>Vincent Rivaldi Kosasih</td>\n      <td>Stapac</td>\n      <td>Indonesia</td>\n      <td>23</td>\n      <td>179</td>\n      <td>87</td>\n      <td>1</td>\n      <td>2</td>\n      <td>Non-Target</td>\n      <td>Non-Target</td>\n    </tr>\n    <tr>\n      <th>8</th>\n      <td>Hardian Wicaksono</td>\n      <td>Pacific Caesar Surabaya</td>\n      <td>Indonesia</td>\n      <td>21</td>\n      <td>177</td>\n      <td>80</td>\n      <td>9</td>\n      <td>8</td>\n      <td>Non-Target</td>\n      <td>Non-Target</td>\n    </tr>\n    <tr>\n      <th>9</th>\n      <td>Brandon Jawato</td>\n      <td>Louvre Surabaya</td>\n      <td>Indonesia</td>\n      <td>24</td>\n      <td>182</td>\n      <td>85</td>\n      <td>6</td>\n      <td>5</td>\n      <td>Target</td>\n      <td>Target</td>\n    </tr>\n  </tbody>\n</table>\n</div>",
      "text/plain": "                       Name                           Club     Country  Age  \\\n0  Andakara Prastawa Dyaksa             Pelita Jaya Bakrie   Indonesia   24   \n1         Reggie Mononimbar             Pelita Jaya Bakrie   Indonesia   21   \n2          Hardianus Lakudu  Satria Muda Pertamina Jakarta   Indonesia   23   \n3       Kevin Yonas Sitorus  Satria Muda Pertamina Jakarta   Indonesia   26   \n4        Arki Dikania Wisnu  Satria Muda Pertamina Jakarta   Indonesia   20   \n5     Laurentius Steven Oei  Satria Muda Pertamina Jakarta   Indonesia   21   \n6                  Mei Joni                         Stapac   Indonesia   25   \n7   Vincent Rivaldi Kosasih                         Stapac   Indonesia   23   \n8         Hardian Wicaksono        Pacific Caesar Surabaya   Indonesia   21   \n9            Brandon Jawato                Louvre Surabaya   Indonesia   24   \n\n   Height  Weight  Pts  Reb      Status Status Predict  \n0     190      90    7    6      Target         Target  \n1     185      86    6    3      Target         Target  \n2     178      83   10    3  Non-Target     Non-Target  \n3     185      75   11    4  Non-Target     Non-Target  \n4     183      80    5    2  Non-Target     Non-Target  \n5     191      85    4   10  Non-Target     Non-Target  \n6     188      90    7    5      Target         Target  \n7     179      87    1    2  Non-Target     Non-Target  \n8     177      80    9    8  Non-Target     Non-Target  \n9     182      85    6    5      Target         Target  "
     },
     "execution_count": 214,
     "metadata": {},
     "output_type": "execute_result"
    }
   ],
   "source": [
    "dfPred_IBL['Status Predict'] = [levels[x] for x in dtsPred]\n",
    "dfPred_IBL"
   ]
  }
 ]
}